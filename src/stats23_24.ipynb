{
 "cells": [
  {
   "cell_type": "code",
   "execution_count": 7,
   "id": "5772b879",
   "metadata": {},
   "outputs": [],
   "source": [
    "import pandas as pd\n",
    "\n",
    "\n",
    "pd.set_option('display.max_columns', None)\n",
    "\n",
    "pd.set_option('display.max_rows', None)"
   ]
  },
  {
   "cell_type": "code",
   "execution_count": 8,
   "id": "0891ea55",
   "metadata": {},
   "outputs": [],
   "source": [
    "df = pd.read_csv(\"../NBA_csv/temporada23_24Stats.csv\")"
   ]
  },
  {
   "cell_type": "code",
   "execution_count": 9,
   "id": "a74684df",
   "metadata": {},
   "outputs": [],
   "source": [
    "df.drop(columns=[\"Player-additional\",\"Rk\"], inplace = True)\n",
    "\n",
    "diccionario_posiciones = {\n",
    "    'PG': 'BA',\n",
    "    'SG': 'ES',\n",
    "    'SF': 'AL',\n",
    "    'PF': 'AP',\n",
    "    'C': 'P',\n",
    "    \"PF-C\":\"P\"\n",
    "}\n",
    "df['Pos'] = df['Pos'].map(diccionario_posiciones)"
   ]
  },
  {
   "cell_type": "code",
   "execution_count": 11,
   "id": "b3bc2703",
   "metadata": {},
   "outputs": [
    {
     "data": {
      "text/plain": [
       "array(['TOT', 'MIA', 'MEM', 'MIN', 'PHO', 'CLE', 'NOP', 'MIL', 'ORL',\n",
       "       'NYK', 'WAS', 'POR', 'CHO', 'PHI', 'SAS', 'SAC', 'TOR', 'ATL',\n",
       "       'CHI', 'LAC', 'DEN', 'BRK', 'BOS', 'HOU', 'DAL', 'IND', 'LAL',\n",
       "       'DET', 'UTA', 'GSW', 'OKC'], dtype=object)"
      ]
     },
     "execution_count": 11,
     "metadata": {},
     "output_type": "execute_result"
    }
   ],
   "source": [
    "df.Tm.unique()"
   ]
  },
  {
   "cell_type": "code",
   "execution_count": null,
   "id": "858b8934",
   "metadata": {},
   "outputs": [],
   "source": []
  },
  {
   "cell_type": "code",
   "execution_count": null,
   "id": "4cfbcd45",
   "metadata": {},
   "outputs": [],
   "source": []
  },
  {
   "cell_type": "code",
   "execution_count": null,
   "id": "805b5cee",
   "metadata": {},
   "outputs": [],
   "source": []
  },
  {
   "cell_type": "code",
   "execution_count": null,
   "id": "f4aec6d5",
   "metadata": {},
   "outputs": [],
   "source": []
  },
  {
   "cell_type": "code",
   "execution_count": 5,
   "id": "c95c0903",
   "metadata": {},
   "outputs": [],
   "source": []
  },
  {
   "cell_type": "code",
   "execution_count": null,
   "id": "2e04bfcf",
   "metadata": {},
   "outputs": [],
   "source": []
  }
 ],
 "metadata": {
  "kernelspec": {
   "display_name": "Python 3 (ipykernel)",
   "language": "python",
   "name": "python3"
  },
  "language_info": {
   "codemirror_mode": {
    "name": "ipython",
    "version": 3
   },
   "file_extension": ".py",
   "mimetype": "text/x-python",
   "name": "python",
   "nbconvert_exporter": "python",
   "pygments_lexer": "ipython3",
   "version": "3.11.5"
  }
 },
 "nbformat": 4,
 "nbformat_minor": 5
}
