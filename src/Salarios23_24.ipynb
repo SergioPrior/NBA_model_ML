{
 "cells": [
  {
   "cell_type": "code",
   "execution_count": 1,
   "id": "07740e68",
   "metadata": {},
   "outputs": [],
   "source": [
    "import pandas as pd\n",
    "pd.set_option('display.max_rows', None)\n",
    "pd.set_option('display.max_columns', None)"
   ]
  },
  {
   "cell_type": "code",
   "execution_count": 2,
   "id": "ca5469df",
   "metadata": {},
   "outputs": [],
   "source": [
    "df0 = pd.read_csv(\"../NBA_csv/atlanta.csv\")\n",
    "df1 = pd.read_csv(\"../NBA_csv/boston.csv\")\n",
    "df2 = pd.read_csv(\"../NBA_csv/brooklin.csv\")\n",
    "df3 = pd.read_csv(\"../NBA_csv/bucks.csv\")\n",
    "df4 = pd.read_csv(\"../NBA_csv/cavaliers.csv\")\n",
    "df5 = pd.read_csv(\"../NBA_csv/chicago.csv\")\n",
    "df6 = pd.read_csv(\"../NBA_csv/clippers.csv\")\n",
    "df7 = pd.read_csv(\"../NBA_csv/dallas.csv\")\n",
    "df8 = pd.read_csv(\"../NBA_csv/denverNuggets.csv\")\n",
    "df9 = pd.read_csv(\"../NBA_csv/goldenState.csv\")\n",
    "df10 = pd.read_csv(\"../NBA_csv/hornets.csv\")\n",
    "df11 = pd.read_csv(\"../NBA_csv/houston.csv\")\n",
    "df12 = pd.read_csv(\"../NBA_csv/kniks.csv\")\n",
    "df13 = pd.read_csv(\"../NBA_csv/lakers.csv\")\n",
    "df14 = pd.read_csv(\"../NBA_csv/memphis.csv\")\n",
    "df15 = pd.read_csv(\"../NBA_csv/miami.csv\")\n",
    "df16 = pd.read_csv(\"../NBA_csv/minnesota.csv\")\n",
    "df17 = pd.read_csv(\"../NBA_csv/Oklahoma.csv\")\n",
    "df18 = pd.read_csv(\"../NBA_csv/orlando.csv\")\n",
    "df19 = pd.read_csv(\"../NBA_csv/pacers.csv\")\n",
    "df20 = pd.read_csv(\"../NBA_csv/pelicans.csv\")\n",
    "df21 = pd.read_csv(\"../NBA_csv/phoenix.csv\")\n",
    "df22 = pd.read_csv(\"../NBA_csv/pistons.csv\")\n",
    "df23 = pd.read_csv(\"../NBA_csv/portland.csv\")\n",
    "df24 = pd.read_csv(\"../NBA_csv/sacramento.csv\")\n",
    "df25 = pd.read_csv(\"../NBA_csv/sixers.csv\")\n",
    "df26 = pd.read_csv(\"../NBA_csv/spurs.csv\")\n",
    "df27 = pd.read_csv(\"../NBA_csv/raptors.csv\")\n",
    "df28 = pd.read_csv(\"../NBA_csv/uta.csv\")\n",
    "df29 = pd.read_csv(\"../NBA_csv/washington.csv\")"
   ]
  },
  {
   "cell_type": "code",
   "execution_count": 3,
   "id": "5d174cd6",
   "metadata": {},
   "outputs": [],
   "source": [
    "salario = pd.concat([df0, df1, df2, df3, df4, df5, df6, df7, df8, df9, df10, df11, df12, df13, df14, df15, df16,\n",
    "                     df17, df18, df19, df20, df21, df22, df23, df24, df25, df26, df27, df28, df29], ignore_index = True)"
   ]
  },
  {
   "cell_type": "code",
   "execution_count": 4,
   "id": "846eb7a9",
   "metadata": {},
   "outputs": [],
   "source": [
    "salario = salario.drop(columns = \"tds3\", axis = 1)"
   ]
  },
  {
   "cell_type": "code",
   "execution_count": 5,
   "id": "7306c44f",
   "metadata": {},
   "outputs": [],
   "source": [
    "salario = salario.dropna()"
   ]
  },
  {
   "cell_type": "code",
   "execution_count": 6,
   "id": "8c235752",
   "metadata": {},
   "outputs": [
    {
     "data": {
      "text/plain": [
       "Jugador    0\n",
       "Salario    0\n",
       "dtype: int64"
      ]
     },
     "execution_count": 6,
     "metadata": {},
     "output_type": "execute_result"
    }
   ],
   "source": [
    "salario.isna().sum()"
   ]
  },
  {
   "cell_type": "code",
   "execution_count": 12,
   "id": "f7964ead",
   "metadata": {},
   "outputs": [
    {
     "name": "stdout",
     "output_type": "stream",
     "text": [
      "Jugadores duplicados:\n"
     ]
    },
    {
     "data": {
      "text/plain": [
       "Jugador    0\n",
       "Salario    0\n",
       "dtype: int64"
      ]
     },
     "execution_count": 12,
     "metadata": {},
     "output_type": "execute_result"
    }
   ],
   "source": [
    "\n",
    "duplicates = salario[salario[\"Jugador\"].duplicated()]\n",
    "\n",
    "# Muestra los jugadores duplicados\n",
    "print(\"Jugadores duplicados:\")\n",
    "duplicates.count()\n"
   ]
  },
  {
   "cell_type": "code",
   "execution_count": 8,
   "id": "d4b71680",
   "metadata": {},
   "outputs": [],
   "source": [
    "# Con este codigo he ido filtrando los jugadores duplicados, pero claro fijandome en el sueldo actual o si ya no esta en la liga.\n",
    "\n",
    "#filtro = salario[salario[\"Jugador\"]==\" \"]\n",
    "\n",
    "#filtro"
   ]
  },
  {
   "cell_type": "code",
   "execution_count": 9,
   "id": "db09960b",
   "metadata": {},
   "outputs": [],
   "source": [
    "# pase los indices que queria eliminar para borrar duplicados a este bucle y asi eliminar todos los jugadores que ya no estan,\n",
    "# o han cambiado de equipo y reducido o aumentado su masa salarial.\n",
    "\n",
    "indices_drop = [249, 274, 351, 282, 388, 231, 44, 452, 459, 150, 191, 297,\n",
    "                      534, 542, 547, 550, 558, 567, 288, 605, 612, 248, 617, 323]\n",
    "\n",
    "for indice in indices_drop:\n",
    "    salario.drop(indice, inplace=True)\n"
   ]
  },
  {
   "cell_type": "code",
   "execution_count": 21,
   "id": "8ea47974",
   "metadata": {},
   "outputs": [],
   "source": [
    "# reemplazamos la columna de salario para poder pasarlo a numerico.\n",
    "\n",
    "salario.Salario = salario.Salario.str.replace(\"$\", \"\").str.replace(\".\",\"\")\n",
    "\n",
    "salario.Salario = salario.Salario.astype(int)"
   ]
  },
  {
   "cell_type": "code",
   "execution_count": 29,
   "id": "5c77f07a",
   "metadata": {},
   "outputs": [],
   "source": [
    "# Pasamos a csv la dataframe limpia.\n",
    "\n",
    "salario.to_csv(\"Salario23_24.csv\", index = False)"
   ]
  },
  {
   "cell_type": "code",
   "execution_count": null,
   "id": "3db3deac",
   "metadata": {},
   "outputs": [],
   "source": []
  }
 ],
 "metadata": {
  "kernelspec": {
   "display_name": "Python 3 (ipykernel)",
   "language": "python",
   "name": "python3"
  },
  "language_info": {
   "codemirror_mode": {
    "name": "ipython",
    "version": 3
   },
   "file_extension": ".py",
   "mimetype": "text/x-python",
   "name": "python",
   "nbconvert_exporter": "python",
   "pygments_lexer": "ipython3",
   "version": "3.11.5"
  }
 },
 "nbformat": 4,
 "nbformat_minor": 5
}
