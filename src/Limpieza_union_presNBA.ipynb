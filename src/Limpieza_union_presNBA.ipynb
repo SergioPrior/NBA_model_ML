{
 "cells": [
  {
   "cell_type": "code",
   "execution_count": 1,
   "id": "018a49a1",
   "metadata": {},
   "outputs": [],
   "source": [
    "import pandas as pd"
   ]
  },
  {
   "cell_type": "code",
   "execution_count": 2,
   "id": "dc8ef83f",
   "metadata": {},
   "outputs": [],
   "source": [
    "df = pd.read_csv(\"NBA_csv/atlanta.csv\")\n",
    "df1 = pd.read_csv(\"NBA_csv/boston.csv\")\n",
    "df2 = pd.read_csv(\"NBA_csv/brooklin.csv\")\n",
    "df3 = pd.read_csv(\"NBA_csv/bucks.csv\")\n",
    "df4 = pd.read_csv(\"NBA_csv/cavaliers.csv\")\n",
    "df5 = pd.read_csv(\"NBA_csv/chicago.csv\")\n",
    "df6 = pd.read_csv(\"NBA_csv/clippers.csv\")\n",
    "df7 = pd.read_csv(\"NBA_csv/dallas.csv\")\n",
    "df8 = pd.read_csv(\"NBA_csv/denverNuggets.csv\")\n",
    "df9 = pd.read_csv(\"NBA_csv/goldenState.csv\")\n",
    "df10 = pd.read_csv(\"NBA_csv/hornets.csv\")\n",
    "df11 = pd.read_csv(\"NBA_csv/houston.csv\")\n",
    "df12 = pd.read_csv(\"NBA_csv/kniks.csv\")\n",
    "df13 = pd.read_csv(\"NBA_csv/lakers.csv\")\n",
    "df14 = pd.read_csv(\"NBA_csv/memphis.csv\")\n",
    "df15 = pd.read_csv(\"NBA_csv/miami.csv\")\n",
    "df16 = pd.read_csv(\"NBA_csv/minnesota.csv\")\n",
    "df17 = pd.read_csv(\"NBA_csv/Oklahoma.csv\")\n",
    "df18 = pd.read_csv(\"NBA_csv/orlando.csv\")\n",
    "df19 = pd.read_csv(\"NBA_csv/pacers.csv\")\n",
    "df20 = pd.read_csv(\"NBA_csv/pelicans.csv\")\n",
    "df21 = pd.read_csv(\"NBA_csv/phoenix.csv\")\n",
    "df22 = pd.read_csv(\"NBA_csv/pistons.csv\")\n",
    "df23 = pd.read_csv(\"NBA_csv/portland.csv\")\n",
    "df24 = pd.read_csv(\"NBA_csv/sacramento.csv\")\n",
    "df25 = pd.read_csv(\"NBA_csv/sixers.csv\")\n",
    "df26 = pd.read_csv(\"NBA_csv/spurs.csv\")\n",
    "df27 = pd.read_csv(\"NBA_csv/raptors.csv\")\n",
    "df28 = pd.read_csv(\"NBA_csv/uta.csv\")\n",
    "df29 = pd.read_csv(\"NBA_csv/washington.csv\")\n",
    "df30 = pd.read_csv(\"NBA_csv/presupuestos_1.csv\")\n",
    "df31 = pd.read_csv(\"NBA_csv/presupuestos_2.csv\")\n"
   ]
  },
  {
   "cell_type": "code",
   "execution_count": 3,
   "id": "fcaf7b4b",
   "metadata": {},
   "outputs": [],
   "source": [
    "# Concatenamos DF de presupuestos.\n",
    "presupuesto_nba = pd.concat([df30, df31], ignore_index=True)"
   ]
  },
  {
   "cell_type": "code",
   "execution_count": 4,
   "id": "9f3374e9",
   "metadata": {},
   "outputs": [],
   "source": [
    "# Añadimos los presupuestos que faltan.\n",
    "data = {\"equipos\": [\"Golden State Warriors\", \"Milwaukee Bucks\"], \n",
    "       \"presupuesto\":[\"207.885.682\",\"186.371.613\"]}\n",
    "\n",
    "df_data = pd.DataFrame(data)"
   ]
  },
  {
   "cell_type": "code",
   "execution_count": 5,
   "id": "abdcd912",
   "metadata": {},
   "outputs": [],
   "source": [
    "# Actualizamos los presupuestos.\n",
    "presupuesto_nba = pd.concat([presupuesto_nba, df_data], ignore_index = True)"
   ]
  },
  {
   "cell_type": "code",
   "execution_count": 6,
   "id": "c35c6a2f",
   "metadata": {},
   "outputs": [],
   "source": [
    "# Remplazamos los simbolos para poder pasar la columna de string a int\n",
    "presupuesto_nba.presupuesto = presupuesto_nba.presupuesto.str.replace(\"$\", \"\").str.replace(\".\", \"\")"
   ]
  },
  {
   "cell_type": "code",
   "execution_count": 13,
   "id": "ab8f736a",
   "metadata": {
    "scrolled": true
   },
   "outputs": [],
   "source": [
    "# Pasamos la cadena de string a int\n",
    "presupuesto_nba.presupuesto = presupuesto_nba.presupuesto.astype(int)"
   ]
  },
  {
   "cell_type": "code",
   "execution_count": 14,
   "id": "dd32778b",
   "metadata": {},
   "outputs": [
    {
     "name": "stdout",
     "output_type": "stream",
     "text": [
      "<class 'pandas.core.frame.DataFrame'>\n",
      "RangeIndex: 30 entries, 0 to 29\n",
      "Data columns (total 2 columns):\n",
      " #   Column       Non-Null Count  Dtype \n",
      "---  ------       --------------  ----- \n",
      " 0   equipos      30 non-null     object\n",
      " 1   presupuesto  30 non-null     int32 \n",
      "dtypes: int32(1), object(1)\n",
      "memory usage: 492.0+ bytes\n"
     ]
    }
   ],
   "source": [
    "presupuesto_nba.info()"
   ]
  },
  {
   "cell_type": "code",
   "execution_count": 15,
   "id": "ca0db87f",
   "metadata": {},
   "outputs": [],
   "source": [
    "# Pasamos a CSV la tabla presupuestos.\n",
    "presupuesto_nba.to_csv('prespuestosNBA23_24.csv', index=False)"
   ]
  },
  {
   "cell_type": "code",
   "execution_count": null,
   "id": "773a1aec",
   "metadata": {},
   "outputs": [],
   "source": []
  }
 ],
 "metadata": {
  "kernelspec": {
   "display_name": "Python 3 (ipykernel)",
   "language": "python",
   "name": "python3"
  },
  "language_info": {
   "codemirror_mode": {
    "name": "ipython",
    "version": 3
   },
   "file_extension": ".py",
   "mimetype": "text/x-python",
   "name": "python",
   "nbconvert_exporter": "python",
   "pygments_lexer": "ipython3",
   "version": "3.11.5"
  }
 },
 "nbformat": 4,
 "nbformat_minor": 5
}
