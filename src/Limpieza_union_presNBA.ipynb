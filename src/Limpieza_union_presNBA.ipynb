{
 "cells": [
  {
   "cell_type": "code",
   "execution_count": 1,
   "id": "50f386dc",
   "metadata": {},
   "outputs": [],
   "source": [
    "import pandas as pd"
   ]
  },
  {
   "cell_type": "code",
   "execution_count": 2,
   "id": "fc851d18",
   "metadata": {},
   "outputs": [],
   "source": [
    "df30 = pd.read_csv(\"NBA_csv/presupuestos_1.csv\")\n",
    "df31 = pd.read_csv(\"NBA_csv/presupuestos_2.csv\")\n"
   ]
  },
  {
   "cell_type": "code",
   "execution_count": 3,
   "id": "5d75d1af",
   "metadata": {},
   "outputs": [],
   "source": [
    "# Concatenamos DF de presupuestos.\n",
    "presupuesto_nba = pd.concat([df30, df31], ignore_index=True)"
   ]
  },
  {
   "cell_type": "code",
   "execution_count": 4,
   "id": "df0fe24d",
   "metadata": {},
   "outputs": [],
   "source": [
    "# Añadimos los presupuestos que faltan.\n",
    "data = {\"equipos\": [\"Golden State Warriors\", \"Milwaukee Bucks\"], \n",
    "       \"presupuesto\":[\"207.885.682\",\"186.371.613\"]}\n",
    "\n",
    "df_data = pd.DataFrame(data)"
   ]
  },
  {
   "cell_type": "code",
   "execution_count": 5,
   "id": "cecb7ef2",
   "metadata": {},
   "outputs": [],
   "source": [
    "# Actualizamos los presupuestos.\n",
    "presupuesto_nba = pd.concat([presupuesto_nba, df_data], ignore_index = True)"
   ]
  },
  {
   "cell_type": "code",
   "execution_count": 6,
   "id": "af529e4d",
   "metadata": {},
   "outputs": [],
   "source": [
    "# Remplazamos los simbolos para poder pasar la columna de string a int\n",
    "presupuesto_nba.presupuesto = presupuesto_nba.presupuesto.str.replace(\"$\", \"\").str.replace(\".\", \"\")"
   ]
  },
  {
   "cell_type": "code",
   "execution_count": 7,
   "id": "24fe004c",
   "metadata": {
    "scrolled": true
   },
   "outputs": [],
   "source": [
    "# Pasamos la cadena de string a int\n",
    "presupuesto_nba.presupuesto = presupuesto_nba.presupuesto.astype(int)"
   ]
  },
  {
   "cell_type": "code",
   "execution_count": 8,
   "id": "b330064b",
   "metadata": {},
   "outputs": [
    {
     "name": "stdout",
     "output_type": "stream",
     "text": [
      "<class 'pandas.core.frame.DataFrame'>\n",
      "RangeIndex: 30 entries, 0 to 29\n",
      "Data columns (total 2 columns):\n",
      " #   Column       Non-Null Count  Dtype \n",
      "---  ------       --------------  ----- \n",
      " 0   equipos      30 non-null     object\n",
      " 1   presupuesto  30 non-null     int32 \n",
      "dtypes: int32(1), object(1)\n",
      "memory usage: 492.0+ bytes\n"
     ]
    }
   ],
   "source": [
    "presupuesto_nba.info()"
   ]
  },
  {
   "cell_type": "code",
   "execution_count": 9,
   "id": "e736551e",
   "metadata": {},
   "outputs": [],
   "source": [
    "# Pasamos a CSV la tabla presupuestos.\n",
    "presupuesto_nba.to_csv('prespuestosNBA23_24.csv', index=False)"
   ]
  }
 ],
 "metadata": {
  "kernelspec": {
   "display_name": "Python 3 (ipykernel)",
   "language": "python",
   "name": "python3"
  },
  "language_info": {
   "codemirror_mode": {
    "name": "ipython",
    "version": 3
   },
   "file_extension": ".py",
   "mimetype": "text/x-python",
   "name": "python",
   "nbconvert_exporter": "python",
   "pygments_lexer": "ipython3",
   "version": "3.11.5"
  }
 },
 "nbformat": 4,
 "nbformat_minor": 5
}
