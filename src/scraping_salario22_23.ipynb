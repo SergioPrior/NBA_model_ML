{
 "cells": [
  {
   "cell_type": "code",
   "execution_count": 1,
   "id": "910625c8",
   "metadata": {},
   "outputs": [],
   "source": [
    "import pandas as pd\n",
    "from bs4 import BeautifulSoup as bs\n",
    "import requests\n",
    "from bs4 import Comment"
   ]
  },
  {
   "cell_type": "code",
   "execution_count": 2,
   "id": "602cd85f",
   "metadata": {},
   "outputs": [],
   "source": [
    "URL_boston = \"https://www.basketball-reference.com/teams/BOS/2023.html\"\n",
    "request = requests.get(URL_boston)\n",
    "html = request.text\n",
    "soup = bs(html, \"html.parser\")"
   ]
  },
  {
   "cell_type": "code",
   "execution_count": 3,
   "id": "fc2051e0",
   "metadata": {},
   "outputs": [],
   "source": [
    "div = soup.find(\"div\",{\"id\":\"all_salaries2\"})"
   ]
  },
  {
   "cell_type": "code",
   "execution_count": 4,
   "id": "9d5a52a5",
   "metadata": {},
   "outputs": [],
   "source": [
    "def scrap(comentarios):\n",
    "    dictio={}\n",
    "    \n",
    "    for comentario in comentarios:\n",
    "        \n",
    "        comentario_soup = bs(comentario, 'html.parser')\n",
    "        celdas = comentario_soup.find_all('td')\n",
    "    \n",
    "    for i in range(0, len(celdas), 2):\n",
    "        clave = celdas[i].text\n",
    "        valor = celdas[i + 1].text\n",
    "        dictio[clave]= valor\n",
    "    return dictio"
   ]
  },
  {
   "cell_type": "code",
   "execution_count": 5,
   "id": "09224a2d",
   "metadata": {},
   "outputs": [],
   "source": [
    "comentarios = div.find_all(string=lambda text: isinstance(text, Comment))\n",
    "boston = scrap(comentarios)\n",
    "boston = pd.DataFrame(list(boston.items()), columns=['Jugador', 'Salario'])"
   ]
  },
  {
   "cell_type": "code",
   "execution_count": 6,
   "id": "4178dc69",
   "metadata": {},
   "outputs": [],
   "source": [
    "URL_phi = \"https://www.basketball-reference.com/teams/PHI/2023.html\"\n",
    "request = requests.get(URL_phi)\n",
    "phi = request.text\n",
    "soup = bs(phi, \"html.parser\")\n",
    "div = soup.find(\"div\",{\"id\":\"all_salaries2\"})"
   ]
  },
  {
   "cell_type": "code",
   "execution_count": 7,
   "id": "ab02e494",
   "metadata": {},
   "outputs": [],
   "source": [
    "comentarios = div.find_all(string=lambda text: isinstance(text, Comment))\n",
    "sixers = scrap(comentarios)\n",
    "sixers = pd.DataFrame(list(sixers.items()), columns=['Jugador', 'Salario'])"
   ]
  },
  {
   "cell_type": "code",
   "execution_count": 8,
   "id": "d8d026c1",
   "metadata": {},
   "outputs": [],
   "source": [
    "URL_KNICKS = \"https://www.basketball-reference.com/teams/NYK/2023.html\"\n",
    "request = requests.get(URL_KNICKS)\n",
    "kni = request.text\n",
    "soup = bs(kni, \"html.parser\")\n",
    "div = soup.find(\"div\",{\"id\":\"all_salaries2\"})"
   ]
  },
  {
   "cell_type": "code",
   "execution_count": 9,
   "id": "62183657",
   "metadata": {},
   "outputs": [],
   "source": [
    "comentarios = div.find_all(string=lambda text: isinstance(text, Comment))\n",
    "knicks = scrap(comentarios)\n",
    "knicks = pd.DataFrame(list(knicks.items()), columns=['Jugador', 'Salario'])"
   ]
  },
  {
   "cell_type": "code",
   "execution_count": 10,
   "id": "abfaa699",
   "metadata": {},
   "outputs": [],
   "source": [
    "URL_KNICKS = \"https://www.basketball-reference.com/teams/MIL/2023.html\"\n",
    "request = requests.get(URL_KNICKS)\n",
    "kni = request.text\n",
    "soup = bs(kni, \"html.parser\")\n",
    "div = soup.find(\"div\",{\"id\":\"all_salaries2\"})"
   ]
  },
  {
   "cell_type": "code",
   "execution_count": 11,
   "id": "8f9abb9c",
   "metadata": {},
   "outputs": [],
   "source": [
    "comentarios = div.find_all(string=lambda text: isinstance(text, Comment))\n",
    "bucks = scrap(comentarios)\n",
    "bucks = pd.DataFrame(list(bucks.items()), columns=['Jugador', 'Salario'])"
   ]
  },
  {
   "cell_type": "code",
   "execution_count": 12,
   "id": "4f69252a",
   "metadata": {},
   "outputs": [],
   "source": [
    "URL_KNICKS = \"https://www.basketball-reference.com/teams/CLE/2023.html\"\n",
    "request = requests.get(URL_KNICKS)\n",
    "kni = request.text\n",
    "soup = bs(kni, \"html.parser\")\n",
    "div = soup.find(\"div\",{\"id\":\"all_salaries2\"})\n",
    "\n",
    "comentarios = div.find_all(string=lambda text: isinstance(text, Comment))\n",
    "cavaliers = scrap(comentarios)\n",
    "cavaliers = pd.DataFrame(list(cavaliers.items()), columns=['Jugador', 'Salario'])"
   ]
  },
  {
   "cell_type": "code",
   "execution_count": 13,
   "id": "7aa0e54e",
   "metadata": {},
   "outputs": [],
   "source": [
    "URL_KNICKS = \"https://www.basketball-reference.com/teams/BRK/2023.html\"\n",
    "request = requests.get(URL_KNICKS)\n",
    "kni = request.text\n",
    "soup = bs(kni, \"html.parser\")\n",
    "div = soup.find(\"div\",{\"id\":\"all_salaries2\"})\n",
    "\n",
    "comentarios = div.find_all(string=lambda text: isinstance(text, Comment))\n",
    "brooklyn = scrap(comentarios)\n",
    "brooklyn = pd.DataFrame(list(brooklyn.items()), columns=['Jugador', 'Salario'])"
   ]
  },
  {
   "cell_type": "code",
   "execution_count": 14,
   "id": "ffda17b1",
   "metadata": {},
   "outputs": [],
   "source": [
    "URL_KNICKS = \"https://www.basketball-reference.com/teams/MIA/2023.html\"\n",
    "request = requests.get(URL_KNICKS)\n",
    "kni = request.text\n",
    "soup = bs(kni, \"html.parser\")\n",
    "div = soup.find(\"div\",{\"id\":\"all_salaries2\"})\n",
    "\n",
    "comentarios = div.find_all(string=lambda text: isinstance(text, Comment))\n",
    "miami = scrap(comentarios)\n",
    "miami = pd.DataFrame(list(miami.items()), columns=['Jugador', 'Salario'])"
   ]
  },
  {
   "cell_type": "code",
   "execution_count": 15,
   "id": "9c696fc5",
   "metadata": {},
   "outputs": [],
   "source": [
    "URL_KNICKS = \"https://www.basketball-reference.com/teams/ATL/2023.html\"\n",
    "request = requests.get(URL_KNICKS)\n",
    "kni = request.text\n",
    "soup = bs(kni, \"html.parser\")\n",
    "div = soup.find(\"div\",{\"id\":\"all_salaries2\"})\n",
    "\n",
    "comentarios = div.find_all(string=lambda text: isinstance(text, Comment))\n",
    "atlanta = scrap(comentarios)\n",
    "atlanta = pd.DataFrame(list(atlanta.items()), columns=['Jugador', 'Salario'])"
   ]
  },
  {
   "cell_type": "code",
   "execution_count": 16,
   "id": "ab033780",
   "metadata": {},
   "outputs": [],
   "source": [
    "URL_KNICKS = \"https://www.basketball-reference.com/teams/TOR/2023.html\"\n",
    "request = requests.get(URL_KNICKS)\n",
    "kni = request.text\n",
    "soup = bs(kni, \"html.parser\")\n",
    "div = soup.find(\"div\",{\"id\":\"all_salaries2\"})\n",
    "\n",
    "comentarios = div.find_all(string=lambda text: isinstance(text, Comment))\n",
    "toronto = scrap(comentarios)\n",
    "toronto = pd.DataFrame(list(toronto.items()), columns=['Jugador', 'Salario'])"
   ]
  },
  {
   "cell_type": "code",
   "execution_count": 17,
   "id": "09d0340b",
   "metadata": {},
   "outputs": [],
   "source": [
    "URL_KNICKS = \"https://www.basketball-reference.com/teams/CHI/2023.html\"\n",
    "request = requests.get(URL_KNICKS)\n",
    "kni = request.text\n",
    "soup = bs(kni, \"html.parser\")\n",
    "div = soup.find(\"div\",{\"id\":\"all_salaries2\"})\n",
    "\n",
    "comentarios = div.find_all(string=lambda text: isinstance(text, Comment))\n",
    "bulls = scrap(comentarios)\n",
    "bulls = pd.DataFrame(list(bulls.items()), columns=['Jugador', 'Salario'])"
   ]
  },
  {
   "cell_type": "code",
   "execution_count": 18,
   "id": "46254bac",
   "metadata": {},
   "outputs": [],
   "source": [
    "URL_KNICKS = \"https://www.basketball-reference.com/teams/IND/2023.html\"\n",
    "request = requests.get(URL_KNICKS)\n",
    "kni = request.text\n",
    "soup = bs(kni, \"html.parser\")\n",
    "div = soup.find(\"div\",{\"id\":\"all_salaries2\"})\n",
    "\n",
    "comentarios = div.find_all(string=lambda text: isinstance(text, Comment))\n",
    "pacers = scrap(comentarios)\n",
    "pacers = pd.DataFrame(list(pacers.items()), columns=['Jugador', 'Salario'])"
   ]
  },
  {
   "cell_type": "code",
   "execution_count": 19,
   "id": "bd2f1566",
   "metadata": {},
   "outputs": [],
   "source": [
    "URL_KNICKS = \"https://www.basketball-reference.com/teams/WAS/2023.html\"\n",
    "request = requests.get(URL_KNICKS)\n",
    "kni = request.text\n",
    "soup = bs(kni, \"html.parser\")\n",
    "div = soup.find(\"div\",{\"id\":\"all_salaries2\"})\n",
    "\n",
    "comentarios = div.find_all(string=lambda text: isinstance(text, Comment))\n",
    "wizards = scrap(comentarios)\n",
    "wizards = pd.DataFrame(list(wizards.items()), columns=['Jugador', 'Salario'])"
   ]
  },
  {
   "cell_type": "code",
   "execution_count": 20,
   "id": "e32f01e8",
   "metadata": {},
   "outputs": [],
   "source": [
    "URL_KNICKS = \"https://www.basketball-reference.com/teams/ORL/2023.html\"\n",
    "request = requests.get(URL_KNICKS)\n",
    "kni = request.text\n",
    "soup = bs(kni, \"html.parser\")\n",
    "div = soup.find(\"div\",{\"id\":\"all_salaries2\"})\n",
    "\n",
    "comentarios = div.find_all(string=lambda text: isinstance(text, Comment))\n",
    "magic = scrap(comentarios)\n",
    "magic = pd.DataFrame(list(magic.items()), columns=['Jugador', 'Salario'])"
   ]
  },
  {
   "cell_type": "code",
   "execution_count": 21,
   "id": "ab11be4f",
   "metadata": {},
   "outputs": [],
   "source": [
    "URL_KNICKS = \"https://www.basketball-reference.com/teams/CHO/2023.html\"\n",
    "request = requests.get(URL_KNICKS)\n",
    "kni = request.text\n",
    "soup = bs(kni, \"html.parser\")\n",
    "div = soup.find(\"div\",{\"id\":\"all_salaries2\"})\n",
    "\n",
    "comentarios = div.find_all(string=lambda text: isinstance(text, Comment))\n",
    "hornets = scrap(comentarios)\n",
    "hornets = pd.DataFrame(list(hornets.items()), columns=['Jugador', 'Salario'])"
   ]
  },
  {
   "cell_type": "code",
   "execution_count": 22,
   "id": "405863e9",
   "metadata": {},
   "outputs": [],
   "source": [
    "URL_KNICKS = \"https://www.basketball-reference.com/teams/DET/2023.html\"\n",
    "request = requests.get(URL_KNICKS)\n",
    "kni = request.text\n",
    "soup = bs(kni, \"html.parser\")\n",
    "div = soup.find(\"div\",{\"id\":\"all_salaries2\"})\n",
    "\n",
    "comentarios = div.find_all(string=lambda text: isinstance(text, Comment))\n",
    "pistons = scrap(comentarios)\n",
    "pistons = pd.DataFrame(list(pistons.items()), columns=['Jugador', 'Salario'])"
   ]
  },
  {
   "cell_type": "code",
   "execution_count": 23,
   "id": "4a89c89e",
   "metadata": {},
   "outputs": [],
   "source": [
    "URL_KNICKS = \"https://www.basketball-reference.com/teams/DEN/2023.html\"\n",
    "request = requests.get(URL_KNICKS)\n",
    "kni = request.text\n",
    "soup = bs(kni, \"html.parser\")\n",
    "div = soup.find(\"div\",{\"id\":\"all_salaries2\"})\n",
    "\n",
    "comentarios = div.find_all(string=lambda text: isinstance(text, Comment))\n",
    "nuggets = scrap(comentarios)\n",
    "nuggets = pd.DataFrame(list(nuggets.items()), columns=['Jugador', 'Salario'])"
   ]
  },
  {
   "cell_type": "code",
   "execution_count": 24,
   "id": "ff8e1303",
   "metadata": {},
   "outputs": [],
   "source": [
    "URL_KNICKS = \"https://www.basketball-reference.com/teams/MEM/2023.html\"\n",
    "request = requests.get(URL_KNICKS)\n",
    "kni = request.text\n",
    "soup = bs(kni, \"html.parser\")\n",
    "div = soup.find(\"div\",{\"id\":\"all_salaries2\"})\n",
    "\n",
    "comentarios = div.find_all(string=lambda text: isinstance(text, Comment))\n",
    "memphis = scrap(comentarios)\n",
    "memphis = pd.DataFrame(list(memphis.items()), columns=['Jugador', 'Salario'])"
   ]
  },
  {
   "cell_type": "code",
   "execution_count": 25,
   "id": "a755ea89",
   "metadata": {},
   "outputs": [],
   "source": [
    "URL_KNICKS = \"https://www.basketball-reference.com/teams/SAC/2023.html\"\n",
    "request = requests.get(URL_KNICKS)\n",
    "kni = request.text\n",
    "soup = bs(kni, \"html.parser\")\n",
    "div = soup.find(\"div\",{\"id\":\"all_salaries2\"})\n",
    "\n",
    "comentarios = div.find_all(string=lambda text: isinstance(text, Comment))\n",
    "kings = scrap(comentarios)\n",
    "kings = pd.DataFrame(list(kings.items()), columns=['Jugador', 'Salario'])"
   ]
  },
  {
   "cell_type": "code",
   "execution_count": 26,
   "id": "dc6363df",
   "metadata": {},
   "outputs": [],
   "source": [
    "URL_KNICKS = \"https://www.basketball-reference.com/teams/PHO/2023.html\"\n",
    "request = requests.get(URL_KNICKS)\n",
    "kni = request.text\n",
    "soup = bs(kni, \"html.parser\")\n",
    "div = soup.find(\"div\",{\"id\":\"all_salaries2\"})\n",
    "\n",
    "comentarios = div.find_all(string=lambda text: isinstance(text, Comment))\n",
    "suns = scrap(comentarios)\n",
    "suns = pd.DataFrame(list(suns.items()), columns=['Jugador', 'Salario'])"
   ]
  },
  {
   "cell_type": "code",
   "execution_count": 27,
   "id": "533401e7",
   "metadata": {},
   "outputs": [],
   "source": [
    "URL_KNICKS = \"https://www.basketball-reference.com/teams/LAC/2023.html\"\n",
    "request = requests.get(URL_KNICKS)\n",
    "kni = request.text\n",
    "soup = bs(kni, \"html.parser\")\n",
    "div = soup.find(\"div\",{\"id\":\"all_salaries2\"})\n",
    "\n",
    "comentarios = div.find_all(string=lambda text: isinstance(text, Comment))\n",
    "clippers = scrap(comentarios)\n",
    "clippers =  pd.DataFrame(list(clippers.items()), columns=['Jugador', 'Salario'])"
   ]
  },
  {
   "cell_type": "code",
   "execution_count": 28,
   "id": "4627de49",
   "metadata": {},
   "outputs": [],
   "source": [
    "URL_KNICKS = \"https://www.basketball-reference.com/teams/GSW/2023.html\"\n",
    "request = requests.get(URL_KNICKS)\n",
    "kni = request.text\n",
    "soup = bs(kni, \"html.parser\")\n",
    "div = soup.find(\"div\",{\"id\":\"all_salaries2\"})\n",
    "\n",
    "comentarios = div.find_all(string=lambda text: isinstance(text, Comment))\n",
    "golden = scrap(comentarios)\n",
    "golden =  pd.DataFrame(list(golden.items()), columns=['Jugador', 'Salario'])"
   ]
  },
  {
   "cell_type": "code",
   "execution_count": 29,
   "id": "8fa49461",
   "metadata": {},
   "outputs": [],
   "source": [
    "URL_KNICKS = \"https://www.basketball-reference.com/teams/LAL/2023.html\"\n",
    "request = requests.get(URL_KNICKS)\n",
    "kni = request.text\n",
    "soup = bs(kni, \"html.parser\")\n",
    "div = soup.find(\"div\",{\"id\":\"all_salaries2\"})\n",
    "\n",
    "comentarios = div.find_all(string=lambda text: isinstance(text, Comment))\n",
    "lakers = scrap(comentarios)\n",
    "lakers =  pd.DataFrame(list(lakers.items()), columns=['Jugador', 'Salario'])"
   ]
  },
  {
   "cell_type": "code",
   "execution_count": 30,
   "id": "e799c656",
   "metadata": {},
   "outputs": [],
   "source": [
    "URL_KNICKS = \"https://www.basketball-reference.com/teams/MIN/2023.html\"\n",
    "request = requests.get(URL_KNICKS)\n",
    "kni = request.text\n",
    "soup = bs(kni, \"html.parser\")\n",
    "div = soup.find(\"div\",{\"id\":\"all_salaries2\"})\n",
    "\n",
    "comentarios = div.find_all(string=lambda text: isinstance(text, Comment))\n",
    "wolves = scrap(comentarios)\n",
    "wolves =  pd.DataFrame(list(wolves.items()), columns=['Jugador', 'Salario'])"
   ]
  },
  {
   "cell_type": "code",
   "execution_count": 31,
   "id": "3b9168ec",
   "metadata": {},
   "outputs": [],
   "source": [
    "URL_KNICKS = \"https://www.basketball-reference.com/teams/NOP/2023.html\"\n",
    "request = requests.get(URL_KNICKS)\n",
    "kni = request.text\n",
    "soup = bs(kni, \"html.parser\")\n",
    "div = soup.find(\"div\",{\"id\":\"all_salaries2\"})\n",
    "\n",
    "comentarios = div.find_all(string=lambda text: isinstance(text, Comment))\n",
    "pelicans = scrap(comentarios)\n",
    "pelicans =  pd.DataFrame(list(pelicans.items()), columns=['Jugador', 'Salario'])"
   ]
  },
  {
   "cell_type": "code",
   "execution_count": 32,
   "id": "d04ba382",
   "metadata": {},
   "outputs": [],
   "source": [
    "URL_KNICKS = \"https://www.basketball-reference.com/teams/OKC/2023.html\"\n",
    "request = requests.get(URL_KNICKS)\n",
    "kni = request.text\n",
    "soup = bs(kni, \"html.parser\")\n",
    "div = soup.find(\"div\",{\"id\":\"all_salaries2\"})\n",
    "\n",
    "comentarios = div.find_all(string=lambda text: isinstance(text, Comment))\n",
    "thunder = scrap(comentarios)\n",
    "thunder =  pd.DataFrame(list(thunder.items()), columns=['Jugador', 'Salario'])"
   ]
  },
  {
   "cell_type": "code",
   "execution_count": 33,
   "id": "fc2abcab",
   "metadata": {},
   "outputs": [],
   "source": [
    "URL_KNICKS = \"https://www.basketball-reference.com/teams/DAL/2023.html\"\n",
    "request = requests.get(URL_KNICKS)\n",
    "kni = request.text\n",
    "soup = bs(kni, \"html.parser\")\n",
    "div = soup.find(\"div\",{\"id\":\"all_salaries2\"})\n",
    "\n",
    "comentarios = div.find_all(string=lambda text: isinstance(text, Comment))\n",
    "dallas = scrap(comentarios)\n",
    "dallas =  pd.DataFrame(list(dallas.items()), columns=['Jugador', 'Salario'])"
   ]
  },
  {
   "cell_type": "code",
   "execution_count": 34,
   "id": "b32b736c",
   "metadata": {},
   "outputs": [],
   "source": [
    "URL_KNICKS = \"https://www.basketball-reference.com/teams/UTA/2023.html\"\n",
    "request = requests.get(URL_KNICKS)\n",
    "kni = request.text\n",
    "soup = bs(kni, \"html.parser\")\n",
    "div = soup.find(\"div\",{\"id\":\"all_salaries2\"})\n",
    "\n",
    "comentarios = div.find_all(string=lambda text: isinstance(text, Comment))\n",
    "uta = scrap(comentarios)\n",
    "uta =  pd.DataFrame(list(uta.items()), columns=['Jugador', 'Salario'])"
   ]
  },
  {
   "cell_type": "code",
   "execution_count": 35,
   "id": "68c2a0c6",
   "metadata": {},
   "outputs": [],
   "source": [
    "URL_KNICKS = \"https://www.basketball-reference.com/teams/POR/2023.html\"\n",
    "request = requests.get(URL_KNICKS)\n",
    "kni = request.text\n",
    "soup = bs(kni, \"html.parser\")\n",
    "div = soup.find(\"div\",{\"id\":\"all_salaries2\"})\n",
    "\n",
    "comentarios = div.find_all(string=lambda text: isinstance(text, Comment))\n",
    "portland = scrap(comentarios)\n",
    "portland =  pd.DataFrame(list(portland.items()), columns=['Jugador', 'Salario'])"
   ]
  },
  {
   "cell_type": "code",
   "execution_count": 36,
   "id": "dc5bf188",
   "metadata": {},
   "outputs": [],
   "source": [
    "URL_KNICKS = \"https://www.basketball-reference.com/teams/HOU/2023.html\"\n",
    "request = requests.get(URL_KNICKS)\n",
    "kni = request.text\n",
    "soup = bs(kni, \"html.parser\")\n",
    "div = soup.find(\"div\",{\"id\":\"all_salaries2\"})\n",
    "\n",
    "comentarios = div.find_all(string=lambda text: isinstance(text, Comment))\n",
    "rockets = scrap(comentarios)"
   ]
  },
  {
   "cell_type": "code",
   "execution_count": 37,
   "id": "f0d65249",
   "metadata": {},
   "outputs": [],
   "source": [
    "rockets['John Wall']=\"$40,866,760\"\n",
    "rockets= pd.DataFrame(list(rockets.items()), columns=['Jugador', 'Salario'])"
   ]
  },
  {
   "cell_type": "code",
   "execution_count": 38,
   "id": "423612df",
   "metadata": {},
   "outputs": [
    {
     "data": {
      "text/html": [
       "<div>\n",
       "<style scoped>\n",
       "    .dataframe tbody tr th:only-of-type {\n",
       "        vertical-align: middle;\n",
       "    }\n",
       "\n",
       "    .dataframe tbody tr th {\n",
       "        vertical-align: top;\n",
       "    }\n",
       "\n",
       "    .dataframe thead th {\n",
       "        text-align: right;\n",
       "    }\n",
       "</style>\n",
       "<table border=\"1\" class=\"dataframe\">\n",
       "  <thead>\n",
       "    <tr style=\"text-align: right;\">\n",
       "      <th></th>\n",
       "      <th>Jugador</th>\n",
       "      <th>Salario</th>\n",
       "    </tr>\n",
       "  </thead>\n",
       "  <tbody>\n",
       "    <tr>\n",
       "      <th>0</th>\n",
       "      <td>Doug McDermott</td>\n",
       "      <td>$13,750,000</td>\n",
       "    </tr>\n",
       "    <tr>\n",
       "      <th>1</th>\n",
       "      <td>Danilo Gallinari</td>\n",
       "      <td>$13,000,000</td>\n",
       "    </tr>\n",
       "    <tr>\n",
       "      <th>2</th>\n",
       "      <td>Devonte' Graham</td>\n",
       "      <td>$11,550,000</td>\n",
       "    </tr>\n",
       "    <tr>\n",
       "      <th>3</th>\n",
       "      <td>Zach Collins</td>\n",
       "      <td>$7,350,000</td>\n",
       "    </tr>\n",
       "    <tr>\n",
       "      <th>4</th>\n",
       "      <td>Khem Birch</td>\n",
       "      <td>$6,667,500</td>\n",
       "    </tr>\n",
       "    <tr>\n",
       "      <th>5</th>\n",
       "      <td>Romeo Langford</td>\n",
       "      <td>$5,634,257</td>\n",
       "    </tr>\n",
       "    <tr>\n",
       "      <th>6</th>\n",
       "      <td>Jeremy Sochan</td>\n",
       "      <td>$5,063,520</td>\n",
       "    </tr>\n",
       "    <tr>\n",
       "      <th>7</th>\n",
       "      <td>Dewayne Dedmon</td>\n",
       "      <td>$4,700,000</td>\n",
       "    </tr>\n",
       "    <tr>\n",
       "      <th>8</th>\n",
       "      <td>Devin Vassell</td>\n",
       "      <td>$4,437,000</td>\n",
       "    </tr>\n",
       "    <tr>\n",
       "      <th>9</th>\n",
       "      <td>Joshua Primo</td>\n",
       "      <td>$4,144,320</td>\n",
       "    </tr>\n",
       "    <tr>\n",
       "      <th>10</th>\n",
       "      <td>Keldon Johnson</td>\n",
       "      <td>$3,873,025</td>\n",
       "    </tr>\n",
       "    <tr>\n",
       "      <th>11</th>\n",
       "      <td>Malaki Branham</td>\n",
       "      <td>$2,925,600</td>\n",
       "    </tr>\n",
       "    <tr>\n",
       "      <th>12</th>\n",
       "      <td>Charles Bassey</td>\n",
       "      <td></td>\n",
       "    </tr>\n",
       "    <tr>\n",
       "      <th>13</th>\n",
       "      <td>Blake Wesley</td>\n",
       "      <td>$2,385,480</td>\n",
       "    </tr>\n",
       "    <tr>\n",
       "      <th>14</th>\n",
       "      <td>Joe Wieskamp</td>\n",
       "      <td>$2,175,000</td>\n",
       "    </tr>\n",
       "    <tr>\n",
       "      <th>15</th>\n",
       "      <td>Isaiah Roby</td>\n",
       "      <td>$1,930,681</td>\n",
       "    </tr>\n",
       "    <tr>\n",
       "      <th>16</th>\n",
       "      <td>Keita Bates-Diop</td>\n",
       "      <td>$1,878,720</td>\n",
       "    </tr>\n",
       "    <tr>\n",
       "      <th>17</th>\n",
       "      <td>Gorgui Dieng</td>\n",
       "      <td>$105,522</td>\n",
       "    </tr>\n",
       "    <tr>\n",
       "      <th>18</th>\n",
       "      <td>Tre Jones</td>\n",
       "      <td>$1,782,621</td>\n",
       "    </tr>\n",
       "    <tr>\n",
       "      <th>19</th>\n",
       "      <td>Stanley Johnson</td>\n",
       "      <td>$1,245,164</td>\n",
       "    </tr>\n",
       "    <tr>\n",
       "      <th>20</th>\n",
       "      <td>Noah Vonleh</td>\n",
       "      <td>$1,160,955</td>\n",
       "    </tr>\n",
       "    <tr>\n",
       "      <th>21</th>\n",
       "      <td>Sandro Mamukelashvili</td>\n",
       "      <td></td>\n",
       "    </tr>\n",
       "    <tr>\n",
       "      <th>22</th>\n",
       "      <td>Alize Johnson</td>\n",
       "      <td>$192,293</td>\n",
       "    </tr>\n",
       "    <tr>\n",
       "      <th>23</th>\n",
       "      <td>Jordan Hall</td>\n",
       "      <td></td>\n",
       "    </tr>\n",
       "    <tr>\n",
       "      <th>24</th>\n",
       "      <td>Dominick Barlow</td>\n",
       "      <td></td>\n",
       "    </tr>\n",
       "    <tr>\n",
       "      <th>25</th>\n",
       "      <td>Julian Champagnie</td>\n",
       "      <td></td>\n",
       "    </tr>\n",
       "  </tbody>\n",
       "</table>\n",
       "</div>"
      ],
      "text/plain": [
       "                  Jugador      Salario\n",
       "0          Doug McDermott  $13,750,000\n",
       "1        Danilo Gallinari  $13,000,000\n",
       "2         Devonte' Graham  $11,550,000\n",
       "3            Zach Collins   $7,350,000\n",
       "4              Khem Birch   $6,667,500\n",
       "5          Romeo Langford   $5,634,257\n",
       "6           Jeremy Sochan   $5,063,520\n",
       "7          Dewayne Dedmon   $4,700,000\n",
       "8           Devin Vassell   $4,437,000\n",
       "9            Joshua Primo   $4,144,320\n",
       "10         Keldon Johnson   $3,873,025\n",
       "11         Malaki Branham   $2,925,600\n",
       "12         Charles Bassey             \n",
       "13           Blake Wesley   $2,385,480\n",
       "14           Joe Wieskamp   $2,175,000\n",
       "15            Isaiah Roby   $1,930,681\n",
       "16       Keita Bates-Diop   $1,878,720\n",
       "17           Gorgui Dieng     $105,522\n",
       "18              Tre Jones   $1,782,621\n",
       "19        Stanley Johnson   $1,245,164\n",
       "20            Noah Vonleh   $1,160,955\n",
       "21  Sandro Mamukelashvili             \n",
       "22          Alize Johnson     $192,293\n",
       "23            Jordan Hall             \n",
       "24        Dominick Barlow             \n",
       "25      Julian Champagnie             "
      ]
     },
     "execution_count": 38,
     "metadata": {},
     "output_type": "execute_result"
    }
   ],
   "source": [
    "URL_KNICKS = \"https://www.basketball-reference.com/teams/SAS/2023.html\"\n",
    "request = requests.get(URL_KNICKS)\n",
    "kni = request.text\n",
    "soup = bs(kni, \"html.parser\")\n",
    "div = soup.find(\"div\",{\"id\":\"all_salaries2\"})\n",
    "\n",
    "comentarios = div.find_all(string=lambda text: isinstance(text, Comment))\n",
    "spurs = scrap(comentarios)\n",
    "spurs = pd.DataFrame(list(spurs.items()), columns=['Jugador', 'Salario'])\n",
    "spurs"
   ]
  },
  {
   "cell_type": "code",
   "execution_count": 41,
   "id": "8d50eab4",
   "metadata": {},
   "outputs": [
    {
     "data": {
      "text/plain": [
       "'equipos = pd.concat(spurs, rockets, portland, uta, dallas, pelicans, thunder, wolves, lakers, golden, clippers, suns, kings, memphis, nuggets,\\n      pistons, hornets, magic, wizards, pacers, bulls, toronto, atlanta, miami, brooklyn, cavaliers, bucks, knicks, sixers,\\n      boston)'"
      ]
     },
     "execution_count": 41,
     "metadata": {},
     "output_type": "execute_result"
    }
   ],
   "source": [
    "equipos = [spurs, rockets, portland, uta, dallas, pelicans, thunder, wolves, lakers, golden, clippers, suns, kings, memphis, nuggets,\n",
    "      pistons, hornets, magic, wizards, pacers, bulls, toronto, atlanta, miami, brooklyn, cavaliers, bucks, knicks, sixers,\n",
    "      boston]\n",
    "\"\"\"equipos = pd.concat(spurs, rockets, portland, uta, dallas, pelicans, thunder, wolves, lakers, golden, clippers, suns, kings, memphis, nuggets,\n",
    "      pistons, hornets, magic, wizards, pacers, bulls, toronto, atlanta, miami, brooklyn, cavaliers, bucks, knicks, sixers,\n",
    "      boston)\"\"\""
   ]
  },
  {
   "cell_type": "code",
   "execution_count": 43,
   "id": "61198046",
   "metadata": {},
   "outputs": [],
   "source": [
    "equipos = pd.concat(equipos, ignore_index=True)"
   ]
  },
  {
   "cell_type": "code",
   "execution_count": 50,
   "id": "4969aefe",
   "metadata": {},
   "outputs": [
    {
     "data": {
      "text/html": [
       "<div>\n",
       "<style scoped>\n",
       "    .dataframe tbody tr th:only-of-type {\n",
       "        vertical-align: middle;\n",
       "    }\n",
       "\n",
       "    .dataframe tbody tr th {\n",
       "        vertical-align: top;\n",
       "    }\n",
       "\n",
       "    .dataframe thead th {\n",
       "        text-align: right;\n",
       "    }\n",
       "</style>\n",
       "<table border=\"1\" class=\"dataframe\">\n",
       "  <thead>\n",
       "    <tr style=\"text-align: right;\">\n",
       "      <th></th>\n",
       "      <th>Jugador</th>\n",
       "      <th>Salario</th>\n",
       "    </tr>\n",
       "  </thead>\n",
       "  <tbody>\n",
       "    <tr>\n",
       "      <th>0</th>\n",
       "      <td>Doug McDermott</td>\n",
       "      <td>$13,750,000</td>\n",
       "    </tr>\n",
       "    <tr>\n",
       "      <th>1</th>\n",
       "      <td>Danilo Gallinari</td>\n",
       "      <td>$13,000,000</td>\n",
       "    </tr>\n",
       "    <tr>\n",
       "      <th>2</th>\n",
       "      <td>Devonte' Graham</td>\n",
       "      <td>$11,550,000</td>\n",
       "    </tr>\n",
       "    <tr>\n",
       "      <th>3</th>\n",
       "      <td>Zach Collins</td>\n",
       "      <td>$7,350,000</td>\n",
       "    </tr>\n",
       "    <tr>\n",
       "      <th>4</th>\n",
       "      <td>Khem Birch</td>\n",
       "      <td>$6,667,500</td>\n",
       "    </tr>\n",
       "    <tr>\n",
       "      <th>...</th>\n",
       "      <td>...</td>\n",
       "      <td>...</td>\n",
       "    </tr>\n",
       "    <tr>\n",
       "      <th>627</th>\n",
       "      <td>Sam Hauser</td>\n",
       "      <td>$1,637,966</td>\n",
       "    </tr>\n",
       "    <tr>\n",
       "      <th>628</th>\n",
       "      <td>Demetrius Jackson</td>\n",
       "      <td>$92,857</td>\n",
       "    </tr>\n",
       "    <tr>\n",
       "      <th>629</th>\n",
       "      <td>Justin Champagnie</td>\n",
       "      <td>$28,241</td>\n",
       "    </tr>\n",
       "    <tr>\n",
       "      <th>630</th>\n",
       "      <td>JD Davison</td>\n",
       "      <td></td>\n",
       "    </tr>\n",
       "    <tr>\n",
       "      <th>631</th>\n",
       "      <td>Mfiondu Kabengele</td>\n",
       "      <td></td>\n",
       "    </tr>\n",
       "  </tbody>\n",
       "</table>\n",
       "<p>632 rows × 2 columns</p>\n",
       "</div>"
      ],
      "text/plain": [
       "               Jugador      Salario\n",
       "0       Doug McDermott  $13,750,000\n",
       "1     Danilo Gallinari  $13,000,000\n",
       "2      Devonte' Graham  $11,550,000\n",
       "3         Zach Collins   $7,350,000\n",
       "4           Khem Birch   $6,667,500\n",
       "..                 ...          ...\n",
       "627         Sam Hauser   $1,637,966\n",
       "628  Demetrius Jackson      $92,857\n",
       "629  Justin Champagnie      $28,241\n",
       "630         JD Davison             \n",
       "631  Mfiondu Kabengele             \n",
       "\n",
       "[632 rows x 2 columns]"
      ]
     },
     "execution_count": 50,
     "metadata": {},
     "output_type": "execute_result"
    }
   ],
   "source": [
    "equipos"
   ]
  },
  {
   "cell_type": "code",
   "execution_count": 61,
   "id": "e9efa3af",
   "metadata": {},
   "outputs": [],
   "source": [
    "import numpy as np\n",
    "equipos.replace('', np.nan, inplace=True)\n",
    "\n",
    "equipos.dropna(inplace = True)"
   ]
  },
  {
   "cell_type": "code",
   "execution_count": 67,
   "id": "369e0412",
   "metadata": {},
   "outputs": [],
   "source": [
    "equipos.Salario = equipos.Salario.str.replace(\"$\",\"\").str.replace(\",\",\"\")"
   ]
  },
  {
   "cell_type": "code",
   "execution_count": 73,
   "id": "0a7da370",
   "metadata": {},
   "outputs": [],
   "source": [
    "equipos.Salario = equipos.Salario.astype(int)"
   ]
  },
  {
   "cell_type": "code",
   "execution_count": 74,
   "id": "7d4d6799",
   "metadata": {},
   "outputs": [
    {
     "name": "stdout",
     "output_type": "stream",
     "text": [
      "<class 'pandas.core.frame.DataFrame'>\n",
      "Index: 529 entries, 0 to 629\n",
      "Data columns (total 2 columns):\n",
      " #   Column   Non-Null Count  Dtype \n",
      "---  ------   --------------  ----- \n",
      " 0   Jugador  529 non-null    object\n",
      " 1   Salario  529 non-null    int32 \n",
      "dtypes: int32(1), object(1)\n",
      "memory usage: 10.3+ KB\n"
     ]
    }
   ],
   "source": [
    "equipos.info()"
   ]
  },
  {
   "cell_type": "code",
   "execution_count": 76,
   "id": "d9ae7218",
   "metadata": {},
   "outputs": [],
   "source": [
    "equipos.to_csv(\"salario22_23.csv\", index = False)"
   ]
  },
  {
   "cell_type": "code",
   "execution_count": null,
   "id": "bd4387ce",
   "metadata": {},
   "outputs": [],
   "source": []
  }
 ],
 "metadata": {
  "kernelspec": {
   "display_name": "Python 3 (ipykernel)",
   "language": "python",
   "name": "python3"
  },
  "language_info": {
   "codemirror_mode": {
    "name": "ipython",
    "version": 3
   },
   "file_extension": ".py",
   "mimetype": "text/x-python",
   "name": "python",
   "nbconvert_exporter": "python",
   "pygments_lexer": "ipython3",
   "version": "3.11.5"
  }
 },
 "nbformat": 4,
 "nbformat_minor": 5
}
