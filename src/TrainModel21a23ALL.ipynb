{
 "cells": [
  {
   "cell_type": "code",
   "execution_count": 1,
   "id": "0e5ce01f",
   "metadata": {},
   "outputs": [],
   "source": [
    "import pandas as pd\n",
    "\n",
    "pd.set_option('display.max_columns', None)\n",
    "\n",
    "pd.set_option('display.max_rows', None)"
   ]
  },
  {
   "cell_type": "code",
   "execution_count": 2,
   "id": "d8dafefc",
   "metadata": {},
   "outputs": [],
   "source": [
    "df = pd.read_csv(\"../NBA_csv/temporada22_23Stats.csv\")\n",
    "\n",
    "statsALL21_22  = pd.read_excel(\"../NBA_csv/salario21_22.xlsx\")\n",
    "\n",
    "salario22_23 = pd.read_csv(\"../NBA_csv/salario22_23.csv\")"
   ]
  },
  {
   "cell_type": "code",
   "execution_count": 3,
   "id": "098d489a",
   "metadata": {},
   "outputs": [],
   "source": [
    "df.drop(columns = [\"Player-additional\", \"Rk\"], inplace = True)\n",
    "\n",
    "diccionario_posiciones = {\n",
    "    'PG': 'BA',\n",
    "    'SG': 'ES',\n",
    "    'SF': 'AL',\n",
    "    'PF': 'AP',\n",
    "    'C': 'P',\n",
    "    \"PF-C\":\"P\",\n",
    "    'SG-PG':\"ES\",\n",
    "    'SG-SF':\"AL\",\n",
    "    'C-PF':\"AP\",\n",
    "    'PG-SG':\"BA\",\n",
    "    'SF-SG':\"ES\",\n",
    "    'PF-SF':\"AP\"\n",
    "}\n",
    "df['Pos'] = df['Pos'].map(diccionario_posiciones)\n",
    "\n",
    "\n",
    "statsALL21_22['Pos'] = statsALL21_22['Pos'].map(diccionario_posiciones)"
   ]
  },
  {
   "cell_type": "code",
   "execution_count": 4,
   "id": "2a54adff",
   "metadata": {},
   "outputs": [],
   "source": [
    "statsALL21_22  = pd.read_excel(\"../NBA_csv/salario21_22.xlsx\")"
   ]
  },
  {
   "cell_type": "code",
   "execution_count": 5,
   "id": "6d0435ff",
   "metadata": {},
   "outputs": [],
   "source": [
    "statsALL21_22.drop(columns = [\"JUGADOR\",\"Rk\"], inplace = True)"
   ]
  },
  {
   "cell_type": "code",
   "execution_count": 6,
   "id": "561561ff",
   "metadata": {},
   "outputs": [],
   "source": [
    "statsALL21_22 = statsALL21_22.dropna()"
   ]
  },
  {
   "cell_type": "code",
   "execution_count": 7,
   "id": "5c00867a",
   "metadata": {},
   "outputs": [],
   "source": [
    "statsALL21_22= statsALL21_22[statsALL21_22[\"SALARIO 2021-22\"]!= \"Dual\"]"
   ]
  },
  {
   "cell_type": "code",
   "execution_count": 8,
   "id": "a3b92355",
   "metadata": {},
   "outputs": [],
   "source": [
    "salario22_23.rename(columns={\"Jugador\":\"Player\"}, inplace = True)"
   ]
  },
  {
   "cell_type": "code",
   "execution_count": 9,
   "id": "bfdca408",
   "metadata": {},
   "outputs": [],
   "source": [
    "statsALL22_23 =pd.merge(salario22_23, df, on='Player', how='inner')"
   ]
  },
  {
   "cell_type": "code",
   "execution_count": 10,
   "id": "f51a65dd",
   "metadata": {},
   "outputs": [],
   "source": [
    "statsALL21_22.rename(columns={\"SALARIO 2021-22\":\"Salario\"}, inplace = True)"
   ]
  },
  {
   "cell_type": "code",
   "execution_count": 11,
   "id": "3647d37e",
   "metadata": {},
   "outputs": [],
   "source": [
    "statsALL21_22.Salario = statsALL21_22.Salario.str.replace(\"$\",\"\").str.replace(\".\",\"\")"
   ]
  },
  {
   "cell_type": "code",
   "execution_count": 12,
   "id": "79133d5b",
   "metadata": {},
   "outputs": [],
   "source": [
    "statsALL21_22.Salario=statsALL21_22.Salario.astype(int)"
   ]
  },
  {
   "cell_type": "code",
   "execution_count": 16,
   "id": "eaeae7a6",
   "metadata": {},
   "outputs": [],
   "source": [
    "\n",
    "diccionario_posiciones = {\n",
    "    'PG': 'BA',\n",
    "    'SG': 'ES',\n",
    "    'SF': 'AL',\n",
    "    'PF': 'AP',\n",
    "    'C': 'P',\n",
    "    \"PF-C\":\"P\",\n",
    "    'SG-PG':\"ES\",\n",
    "    'SG-SF':\"AL\",\n",
    "    'C-PF':\"AP\",\n",
    "    'PG-SG':\"BA\",\n",
    "    'SF-SG':\"ES\",\n",
    "    'PF-SF':\"AP\"\n",
    "}\n",
    "df['Pos'] = df['Pos'].map(diccionario_posiciones)\n",
    "\n",
    "\n",
    "statsALL21_22['Pos'] = statsALL21_22['Pos'].map(diccionario_posiciones)"
   ]
  },
  {
   "cell_type": "code",
   "execution_count": 18,
   "id": "28c745e7",
   "metadata": {},
   "outputs": [],
   "source": [
    "StatsAllTrain =  pd.concat([statsALL21_22, statsALL22_23], ignore_index=True)"
   ]
  },
  {
   "cell_type": "code",
   "execution_count": 34,
   "id": "95bcd31b",
   "metadata": {},
   "outputs": [],
   "source": [
    "StatsAllTrain.Pos=StatsAllTrain.Pos.fillna(\"AL\")"
   ]
  },
  {
   "cell_type": "code",
   "execution_count": 36,
   "id": "6e3d9bb4",
   "metadata": {},
   "outputs": [
    {
     "data": {
      "text/plain": [
       "array(['AP', 'BA', 'AL', 'ES', 'P'], dtype=object)"
      ]
     },
     "execution_count": 36,
     "metadata": {},
     "output_type": "execute_result"
    }
   ],
   "source": [
    "StatsAllTrain.Pos.unique()"
   ]
  },
  {
   "cell_type": "code",
   "execution_count": 37,
   "id": "8af9ecc2",
   "metadata": {},
   "outputs": [],
   "source": [
    "StatsAllTrain.to_csv(\"StatsAllTrain.csv\", index=False)"
   ]
  },
  {
   "cell_type": "code",
   "execution_count": null,
   "id": "2abbddf4",
   "metadata": {},
   "outputs": [],
   "source": []
  }
 ],
 "metadata": {
  "kernelspec": {
   "display_name": "Python 3 (ipykernel)",
   "language": "python",
   "name": "python3"
  },
  "language_info": {
   "codemirror_mode": {
    "name": "ipython",
    "version": 3
   },
   "file_extension": ".py",
   "mimetype": "text/x-python",
   "name": "python",
   "nbconvert_exporter": "python",
   "pygments_lexer": "ipython3",
   "version": "3.11.5"
  }
 },
 "nbformat": 4,
 "nbformat_minor": 5
}
