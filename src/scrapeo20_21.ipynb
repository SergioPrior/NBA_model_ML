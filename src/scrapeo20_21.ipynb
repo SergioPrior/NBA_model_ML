{
 "cells": [
  {
   "cell_type": "code",
   "execution_count": 1,
   "id": "910625c8",
   "metadata": {},
   "outputs": [],
   "source": [
    "import pandas as pd\n",
    "from bs4 import BeautifulSoup as bs\n",
    "import requests\n",
    "from bs4 import Comment"
   ]
  },
  {
   "cell_type": "code",
   "execution_count": 2,
   "id": "602cd85f",
   "metadata": {},
   "outputs": [],
   "source": [
    "URL_boston = \"https://www.basketball-reference.com/teams/BOS/2021.html\"\n",
    "request = requests.get(URL_boston)\n",
    "html = request.text\n",
    "soup = bs(html, \"html.parser\")"
   ]
  },
  {
   "cell_type": "code",
   "execution_count": 3,
   "id": "fc2051e0",
   "metadata": {},
   "outputs": [],
   "source": [
    "div = soup.find(\"div\",{\"id\":\"all_salaries2\"})"
   ]
  },
  {
   "cell_type": "code",
   "execution_count": 4,
   "id": "9d5a52a5",
   "metadata": {},
   "outputs": [],
   "source": [
    "def scrap(comentarios):\n",
    "    dictio={}\n",
    "    \n",
    "    for comentario in comentarios:\n",
    "        \n",
    "        comentario_soup = bs(comentario, 'html.parser')\n",
    "        celdas = comentario_soup.find_all('td')\n",
    "    \n",
    "    for i in range(0, len(celdas), 2):\n",
    "        clave = celdas[i].text\n",
    "        valor = celdas[i + 1].text\n",
    "        dictio[clave]= valor\n",
    "    return dictio"
   ]
  },
  {
   "cell_type": "code",
   "execution_count": 5,
   "id": "09224a2d",
   "metadata": {},
   "outputs": [],
   "source": [
    "comentarios = div.find_all(string=lambda text: isinstance(text, Comment))\n",
    "boston = scrap(comentarios)\n",
    "boston = pd.DataFrame(list(boston.items()), columns=['Jugador', 'Salario'])"
   ]
  },
  {
   "cell_type": "code",
   "execution_count": 6,
   "id": "04292ce5",
   "metadata": {},
   "outputs": [
    {
     "data": {
      "text/html": [
       "<div>\n",
       "<style scoped>\n",
       "    .dataframe tbody tr th:only-of-type {\n",
       "        vertical-align: middle;\n",
       "    }\n",
       "\n",
       "    .dataframe tbody tr th {\n",
       "        vertical-align: top;\n",
       "    }\n",
       "\n",
       "    .dataframe thead th {\n",
       "        text-align: right;\n",
       "    }\n",
       "</style>\n",
       "<table border=\"1\" class=\"dataframe\">\n",
       "  <thead>\n",
       "    <tr style=\"text-align: right;\">\n",
       "      <th></th>\n",
       "      <th>Jugador</th>\n",
       "      <th>Salario</th>\n",
       "    </tr>\n",
       "  </thead>\n",
       "  <tbody>\n",
       "    <tr>\n",
       "      <th>0</th>\n",
       "      <td>Kemba Walker</td>\n",
       "      <td>$34,379,100</td>\n",
       "    </tr>\n",
       "    <tr>\n",
       "      <th>1</th>\n",
       "      <td>Jaylen Brown</td>\n",
       "      <td>$23,437,500</td>\n",
       "    </tr>\n",
       "    <tr>\n",
       "      <th>2</th>\n",
       "      <td>Evan Fournier</td>\n",
       "      <td>$17,450,000</td>\n",
       "    </tr>\n",
       "    <tr>\n",
       "      <th>3</th>\n",
       "      <td>Marcus Smart</td>\n",
       "      <td>$13,446,428</td>\n",
       "    </tr>\n",
       "    <tr>\n",
       "      <th>4</th>\n",
       "      <td>Jayson Tatum</td>\n",
       "      <td>$9,897,120</td>\n",
       "    </tr>\n",
       "    <tr>\n",
       "      <th>5</th>\n",
       "      <td>Tristan Thompson</td>\n",
       "      <td>$9,258,000</td>\n",
       "    </tr>\n",
       "    <tr>\n",
       "      <th>6</th>\n",
       "      <td>Romeo Langford</td>\n",
       "      <td>$3,631,200</td>\n",
       "    </tr>\n",
       "    <tr>\n",
       "      <th>7</th>\n",
       "      <td>Aaron Nesmith</td>\n",
       "      <td>$3,458,400</td>\n",
       "    </tr>\n",
       "    <tr>\n",
       "      <th>8</th>\n",
       "      <td>Grant Williams</td>\n",
       "      <td>$2,498,760</td>\n",
       "    </tr>\n",
       "    <tr>\n",
       "      <th>9</th>\n",
       "      <td>Luke Kornet</td>\n",
       "      <td>$2,250,000</td>\n",
       "    </tr>\n",
       "    <tr>\n",
       "      <th>10</th>\n",
       "      <td>Moritz Wagner</td>\n",
       "      <td>$2,161,920</td>\n",
       "    </tr>\n",
       "    <tr>\n",
       "      <th>11</th>\n",
       "      <td>Payton Pritchard</td>\n",
       "      <td>$2,035,800</td>\n",
       "    </tr>\n",
       "    <tr>\n",
       "      <th>12</th>\n",
       "      <td>Robert Williams</td>\n",
       "      <td>$2,029,920</td>\n",
       "    </tr>\n",
       "    <tr>\n",
       "      <th>13</th>\n",
       "      <td>Semi Ojeleye</td>\n",
       "      <td>$1,752,950</td>\n",
       "    </tr>\n",
       "    <tr>\n",
       "      <th>14</th>\n",
       "      <td>Carsen Edwards</td>\n",
       "      <td>$1,517,981</td>\n",
       "    </tr>\n",
       "    <tr>\n",
       "      <th>15</th>\n",
       "      <td>Guerschon Yabusele</td>\n",
       "      <td>$1,039,080</td>\n",
       "    </tr>\n",
       "    <tr>\n",
       "      <th>16</th>\n",
       "      <td>Jabari Parker</td>\n",
       "      <td>$430,729</td>\n",
       "    </tr>\n",
       "    <tr>\n",
       "      <th>17</th>\n",
       "      <td>Demetrius Jackson</td>\n",
       "      <td>$92,857</td>\n",
       "    </tr>\n",
       "    <tr>\n",
       "      <th>18</th>\n",
       "      <td>Tremont Waters</td>\n",
       "      <td>$0</td>\n",
       "    </tr>\n",
       "    <tr>\n",
       "      <th>19</th>\n",
       "      <td>Tacko Fall</td>\n",
       "      <td>$0</td>\n",
       "    </tr>\n",
       "  </tbody>\n",
       "</table>\n",
       "</div>"
      ],
      "text/plain": [
       "               Jugador      Salario\n",
       "0         Kemba Walker  $34,379,100\n",
       "1         Jaylen Brown  $23,437,500\n",
       "2        Evan Fournier  $17,450,000\n",
       "3         Marcus Smart  $13,446,428\n",
       "4         Jayson Tatum   $9,897,120\n",
       "5     Tristan Thompson   $9,258,000\n",
       "6       Romeo Langford   $3,631,200\n",
       "7        Aaron Nesmith   $3,458,400\n",
       "8       Grant Williams   $2,498,760\n",
       "9          Luke Kornet   $2,250,000\n",
       "10       Moritz Wagner   $2,161,920\n",
       "11    Payton Pritchard   $2,035,800\n",
       "12     Robert Williams   $2,029,920\n",
       "13        Semi Ojeleye   $1,752,950\n",
       "14      Carsen Edwards   $1,517,981\n",
       "15  Guerschon Yabusele   $1,039,080\n",
       "16       Jabari Parker     $430,729\n",
       "17   Demetrius Jackson      $92,857\n",
       "18      Tremont Waters           $0\n",
       "19          Tacko Fall           $0"
      ]
     },
     "execution_count": 6,
     "metadata": {},
     "output_type": "execute_result"
    }
   ],
   "source": [
    "boston"
   ]
  },
  {
   "cell_type": "code",
   "execution_count": 7,
   "id": "4178dc69",
   "metadata": {},
   "outputs": [],
   "source": [
    "URL_phi = \"https://www.basketball-reference.com/teams/PHI/2021.html\"\n",
    "request = requests.get(URL_phi)\n",
    "phi = request.text\n",
    "soup = bs(phi, \"html.parser\")\n",
    "div = soup.find(\"div\",{\"id\":\"all_salaries2\"})"
   ]
  },
  {
   "cell_type": "code",
   "execution_count": 8,
   "id": "ab02e494",
   "metadata": {},
   "outputs": [],
   "source": [
    "comentarios = div.find_all(string=lambda text: isinstance(text, Comment))\n",
    "sixers = scrap(comentarios)\n",
    "sixers = pd.DataFrame(list(sixers.items()), columns=['Jugador', 'Salario'])"
   ]
  },
  {
   "cell_type": "code",
   "execution_count": 9,
   "id": "d8d026c1",
   "metadata": {},
   "outputs": [],
   "source": [
    "URL_KNICKS = \"https://www.basketball-reference.com/teams/NYK/2021.html\"\n",
    "request = requests.get(URL_KNICKS)\n",
    "kni = request.text\n",
    "soup = bs(kni, \"html.parser\")\n",
    "div = soup.find(\"div\",{\"id\":\"all_salaries2\"})"
   ]
  },
  {
   "cell_type": "code",
   "execution_count": 10,
   "id": "62183657",
   "metadata": {},
   "outputs": [],
   "source": [
    "comentarios = div.find_all(string=lambda text: isinstance(text, Comment))\n",
    "knicks = scrap(comentarios)\n",
    "knicks = pd.DataFrame(list(knicks.items()), columns=['Jugador', 'Salario'])"
   ]
  },
  {
   "cell_type": "code",
   "execution_count": 11,
   "id": "abfaa699",
   "metadata": {},
   "outputs": [],
   "source": [
    "URL_KNICKS = \"https://www.basketball-reference.com/teams/MIL/2021.html\"\n",
    "request = requests.get(URL_KNICKS)\n",
    "kni = request.text\n",
    "soup = bs(kni, \"html.parser\")\n",
    "div = soup.find(\"div\",{\"id\":\"all_salaries2\"})"
   ]
  },
  {
   "cell_type": "code",
   "execution_count": 12,
   "id": "8f9abb9c",
   "metadata": {},
   "outputs": [],
   "source": [
    "comentarios = div.find_all(string=lambda text: isinstance(text, Comment))\n",
    "bucks = scrap(comentarios)\n",
    "bucks = pd.DataFrame(list(bucks.items()), columns=['Jugador', 'Salario'])"
   ]
  },
  {
   "cell_type": "code",
   "execution_count": 13,
   "id": "4f69252a",
   "metadata": {},
   "outputs": [],
   "source": [
    "URL_KNICKS = \"https://www.basketball-reference.com/teams/CLE/2021.html\"\n",
    "request = requests.get(URL_KNICKS)\n",
    "kni = request.text\n",
    "soup = bs(kni, \"html.parser\")\n",
    "div = soup.find(\"div\",{\"id\":\"all_salaries2\"})\n",
    "\n",
    "comentarios = div.find_all(string=lambda text: isinstance(text, Comment))\n",
    "cavaliers = scrap(comentarios)\n",
    "cavaliers = pd.DataFrame(list(cavaliers.items()), columns=['Jugador', 'Salario'])"
   ]
  },
  {
   "cell_type": "code",
   "execution_count": 14,
   "id": "7aa0e54e",
   "metadata": {},
   "outputs": [],
   "source": [
    "URL_KNICKS = \"https://www.basketball-reference.com/teams/BRK/2021.html\"\n",
    "request = requests.get(URL_KNICKS)\n",
    "kni = request.text\n",
    "soup = bs(kni, \"html.parser\")\n",
    "div = soup.find(\"div\",{\"id\":\"all_salaries2\"})\n",
    "\n",
    "comentarios = div.find_all(string=lambda text: isinstance(text, Comment))\n",
    "brooklyn = scrap(comentarios)\n",
    "brooklyn = pd.DataFrame(list(brooklyn.items()), columns=['Jugador', 'Salario'])"
   ]
  },
  {
   "cell_type": "code",
   "execution_count": 15,
   "id": "ffda17b1",
   "metadata": {},
   "outputs": [],
   "source": [
    "URL_KNICKS = \"https://www.basketball-reference.com/teams/MIA/2021.html\"\n",
    "request = requests.get(URL_KNICKS)\n",
    "kni = request.text\n",
    "soup = bs(kni, \"html.parser\")\n",
    "div = soup.find(\"div\",{\"id\":\"all_salaries2\"})\n",
    "\n",
    "comentarios = div.find_all(string=lambda text: isinstance(text, Comment))\n",
    "miami = scrap(comentarios)\n",
    "miami = pd.DataFrame(list(miami.items()), columns=['Jugador', 'Salario'])"
   ]
  },
  {
   "cell_type": "code",
   "execution_count": 16,
   "id": "9c696fc5",
   "metadata": {},
   "outputs": [],
   "source": [
    "URL_KNICKS = \"https://www.basketball-reference.com/teams/ATL/2021.html\"\n",
    "request = requests.get(URL_KNICKS)\n",
    "kni = request.text\n",
    "soup = bs(kni, \"html.parser\")\n",
    "div = soup.find(\"div\",{\"id\":\"all_salaries2\"})\n",
    "\n",
    "comentarios = div.find_all(string=lambda text: isinstance(text, Comment))\n",
    "atlanta = scrap(comentarios)\n",
    "atlanta = pd.DataFrame(list(atlanta.items()), columns=['Jugador', 'Salario'])"
   ]
  },
  {
   "cell_type": "code",
   "execution_count": 17,
   "id": "ab033780",
   "metadata": {},
   "outputs": [],
   "source": [
    "URL_KNICKS = \"https://www.basketball-reference.com/teams/TOR/2021.html\"\n",
    "request = requests.get(URL_KNICKS)\n",
    "kni = request.text\n",
    "soup = bs(kni, \"html.parser\")\n",
    "div = soup.find(\"div\",{\"id\":\"all_salaries2\"})\n",
    "\n",
    "comentarios = div.find_all(string=lambda text: isinstance(text, Comment))\n",
    "toronto = scrap(comentarios)\n",
    "toronto = pd.DataFrame(list(toronto.items()), columns=['Jugador', 'Salario'])"
   ]
  },
  {
   "cell_type": "code",
   "execution_count": 18,
   "id": "09d0340b",
   "metadata": {},
   "outputs": [],
   "source": [
    "URL_KNICKS = \"https://www.basketball-reference.com/teams/CHI/2021.html\"\n",
    "request = requests.get(URL_KNICKS)\n",
    "kni = request.text\n",
    "soup = bs(kni, \"html.parser\")\n",
    "div = soup.find(\"div\",{\"id\":\"all_salaries2\"})\n",
    "\n",
    "comentarios = div.find_all(string=lambda text: isinstance(text, Comment))\n",
    "bulls = scrap(comentarios)\n",
    "bulls = pd.DataFrame(list(bulls.items()), columns=['Jugador', 'Salario'])"
   ]
  },
  {
   "cell_type": "code",
   "execution_count": 19,
   "id": "46254bac",
   "metadata": {},
   "outputs": [],
   "source": [
    "URL_KNICKS = \"https://www.basketball-reference.com/teams/IND/2021.html\"\n",
    "request = requests.get(URL_KNICKS)\n",
    "kni = request.text\n",
    "soup = bs(kni, \"html.parser\")\n",
    "div = soup.find(\"div\",{\"id\":\"all_salaries2\"})\n",
    "\n",
    "comentarios = div.find_all(string=lambda text: isinstance(text, Comment))\n",
    "pacers = scrap(comentarios)\n",
    "pacers = pd.DataFrame(list(pacers.items()), columns=['Jugador', 'Salario'])"
   ]
  },
  {
   "cell_type": "code",
   "execution_count": 20,
   "id": "bd2f1566",
   "metadata": {},
   "outputs": [],
   "source": [
    "URL_KNICKS = \"https://www.basketball-reference.com/teams/WAS/2021.html\"\n",
    "request = requests.get(URL_KNICKS)\n",
    "kni = request.text\n",
    "soup = bs(kni, \"html.parser\")\n",
    "div = soup.find(\"div\",{\"id\":\"all_salaries2\"})\n",
    "\n",
    "comentarios = div.find_all(string=lambda text: isinstance(text, Comment))\n",
    "wizards = scrap(comentarios)\n",
    "wizards = pd.DataFrame(list(wizards.items()), columns=['Jugador', 'Salario'])"
   ]
  },
  {
   "cell_type": "code",
   "execution_count": 21,
   "id": "e32f01e8",
   "metadata": {},
   "outputs": [],
   "source": [
    "URL_KNICKS = \"https://www.basketball-reference.com/teams/ORL/2021.html\"\n",
    "request = requests.get(URL_KNICKS)\n",
    "kni = request.text\n",
    "soup = bs(kni, \"html.parser\")\n",
    "div = soup.find(\"div\",{\"id\":\"all_salaries2\"})\n",
    "\n",
    "comentarios = div.find_all(string=lambda text: isinstance(text, Comment))\n",
    "magic = scrap(comentarios)\n",
    "magic = pd.DataFrame(list(magic.items()), columns=['Jugador', 'Salario'])"
   ]
  },
  {
   "cell_type": "code",
   "execution_count": 22,
   "id": "ab11be4f",
   "metadata": {},
   "outputs": [],
   "source": [
    "URL_KNICKS = \"https://www.basketball-reference.com/teams/CHO/2021.html\"\n",
    "request = requests.get(URL_KNICKS)\n",
    "kni = request.text\n",
    "soup = bs(kni, \"html.parser\")\n",
    "div = soup.find(\"div\",{\"id\":\"all_salaries2\"})\n",
    "\n",
    "comentarios = div.find_all(string=lambda text: isinstance(text, Comment))\n",
    "hornets = scrap(comentarios)\n",
    "hornets = pd.DataFrame(list(hornets.items()), columns=['Jugador', 'Salario'])"
   ]
  },
  {
   "cell_type": "code",
   "execution_count": 23,
   "id": "405863e9",
   "metadata": {},
   "outputs": [],
   "source": [
    "URL_KNICKS = \"https://www.basketball-reference.com/teams/DET/2021.html\"\n",
    "request = requests.get(URL_KNICKS)\n",
    "kni = request.text\n",
    "soup = bs(kni, \"html.parser\")\n",
    "div = soup.find(\"div\",{\"id\":\"all_salaries2\"})\n",
    "\n",
    "comentarios = div.find_all(string=lambda text: isinstance(text, Comment))\n",
    "pistons = scrap(comentarios)\n",
    "pistons = pd.DataFrame(list(pistons.items()), columns=['Jugador', 'Salario'])"
   ]
  },
  {
   "cell_type": "code",
   "execution_count": 24,
   "id": "4a89c89e",
   "metadata": {},
   "outputs": [],
   "source": [
    "URL_KNICKS = \"https://www.basketball-reference.com/teams/DEN/2021.html\"\n",
    "request = requests.get(URL_KNICKS)\n",
    "kni = request.text\n",
    "soup = bs(kni, \"html.parser\")\n",
    "div = soup.find(\"div\",{\"id\":\"all_salaries2\"})\n",
    "\n",
    "comentarios = div.find_all(string=lambda text: isinstance(text, Comment))\n",
    "nuggets = scrap(comentarios)\n",
    "nuggets = pd.DataFrame(list(nuggets.items()), columns=['Jugador', 'Salario'])"
   ]
  },
  {
   "cell_type": "code",
   "execution_count": 25,
   "id": "ff8e1303",
   "metadata": {},
   "outputs": [],
   "source": [
    "URL_KNICKS = \"https://www.basketball-reference.com/teams/MEM/2021.html\"\n",
    "request = requests.get(URL_KNICKS)\n",
    "kni = request.text\n",
    "soup = bs(kni, \"html.parser\")\n",
    "div = soup.find(\"div\",{\"id\":\"all_salaries2\"})\n",
    "\n",
    "comentarios = div.find_all(string=lambda text: isinstance(text, Comment))\n",
    "memphis = scrap(comentarios)\n",
    "memphis = pd.DataFrame(list(memphis.items()), columns=['Jugador', 'Salario'])"
   ]
  },
  {
   "cell_type": "code",
   "execution_count": 26,
   "id": "a755ea89",
   "metadata": {},
   "outputs": [],
   "source": [
    "URL_KNICKS = \"https://www.basketball-reference.com/teams/SAC/2021.html\"\n",
    "request = requests.get(URL_KNICKS)\n",
    "kni = request.text\n",
    "soup = bs(kni, \"html.parser\")\n",
    "div = soup.find(\"div\",{\"id\":\"all_salaries2\"})\n",
    "\n",
    "comentarios = div.find_all(string=lambda text: isinstance(text, Comment))\n",
    "kings = scrap(comentarios)\n",
    "kings = pd.DataFrame(list(kings.items()), columns=['Jugador', 'Salario'])"
   ]
  },
  {
   "cell_type": "code",
   "execution_count": 27,
   "id": "dc6363df",
   "metadata": {},
   "outputs": [],
   "source": [
    "URL_KNICKS = \"https://www.basketball-reference.com/teams/PHO/2021.html\"\n",
    "request = requests.get(URL_KNICKS)\n",
    "kni = request.text\n",
    "soup = bs(kni, \"html.parser\")\n",
    "div = soup.find(\"div\",{\"id\":\"all_salaries2\"})\n",
    "\n",
    "comentarios = div.find_all(string=lambda text: isinstance(text, Comment))\n",
    "suns = scrap(comentarios)\n",
    "suns = pd.DataFrame(list(suns.items()), columns=['Jugador', 'Salario'])"
   ]
  },
  {
   "cell_type": "code",
   "execution_count": 28,
   "id": "533401e7",
   "metadata": {},
   "outputs": [],
   "source": [
    "URL_KNICKS = \"https://www.basketball-reference.com/teams/LAC/2021.html\"\n",
    "request = requests.get(URL_KNICKS)\n",
    "kni = request.text\n",
    "soup = bs(kni, \"html.parser\")\n",
    "div = soup.find(\"div\",{\"id\":\"all_salaries2\"})\n",
    "\n",
    "comentarios = div.find_all(string=lambda text: isinstance(text, Comment))\n",
    "clippers = scrap(comentarios)\n",
    "clippers =  pd.DataFrame(list(clippers.items()), columns=['Jugador', 'Salario'])"
   ]
  },
  {
   "cell_type": "code",
   "execution_count": 29,
   "id": "4627de49",
   "metadata": {},
   "outputs": [],
   "source": [
    "URL_KNICKS = \"https://www.basketball-reference.com/teams/GSW/2021.html\"\n",
    "request = requests.get(URL_KNICKS)\n",
    "kni = request.text\n",
    "soup = bs(kni, \"html.parser\")\n",
    "div = soup.find(\"div\",{\"id\":\"all_salaries2\"})\n",
    "\n",
    "comentarios = div.find_all(string=lambda text: isinstance(text, Comment))\n",
    "golden = scrap(comentarios)\n",
    "golden =  pd.DataFrame(list(golden.items()), columns=['Jugador', 'Salario'])"
   ]
  },
  {
   "cell_type": "code",
   "execution_count": 30,
   "id": "8fa49461",
   "metadata": {},
   "outputs": [],
   "source": [
    "URL_KNICKS = \"https://www.basketball-reference.com/teams/LAL/2021.html\"\n",
    "request = requests.get(URL_KNICKS)\n",
    "kni = request.text\n",
    "soup = bs(kni, \"html.parser\")\n",
    "div = soup.find(\"div\",{\"id\":\"all_salaries2\"})\n",
    "\n",
    "comentarios = div.find_all(string=lambda text: isinstance(text, Comment))\n",
    "lakers = scrap(comentarios)\n",
    "lakers =  pd.DataFrame(list(lakers.items()), columns=['Jugador', 'Salario'])"
   ]
  },
  {
   "cell_type": "code",
   "execution_count": 31,
   "id": "e799c656",
   "metadata": {},
   "outputs": [],
   "source": [
    "URL_KNICKS = \"https://www.basketball-reference.com/teams/MIN/2021.html\"\n",
    "request = requests.get(URL_KNICKS)\n",
    "kni = request.text\n",
    "soup = bs(kni, \"html.parser\")\n",
    "div = soup.find(\"div\",{\"id\":\"all_salaries2\"})\n",
    "\n",
    "comentarios = div.find_all(string=lambda text: isinstance(text, Comment))\n",
    "wolves = scrap(comentarios)\n",
    "wolves =  pd.DataFrame(list(wolves.items()), columns=['Jugador', 'Salario'])"
   ]
  },
  {
   "cell_type": "code",
   "execution_count": 32,
   "id": "3b9168ec",
   "metadata": {},
   "outputs": [],
   "source": [
    "URL_KNICKS = \"https://www.basketball-reference.com/teams/NOP/2021.html\"\n",
    "request = requests.get(URL_KNICKS)\n",
    "kni = request.text\n",
    "soup = bs(kni, \"html.parser\")\n",
    "div = soup.find(\"div\",{\"id\":\"all_salaries2\"})\n",
    "\n",
    "comentarios = div.find_all(string=lambda text: isinstance(text, Comment))\n",
    "pelicans = scrap(comentarios)\n",
    "pelicans =  pd.DataFrame(list(pelicans.items()), columns=['Jugador', 'Salario'])"
   ]
  },
  {
   "cell_type": "code",
   "execution_count": 33,
   "id": "d04ba382",
   "metadata": {},
   "outputs": [],
   "source": [
    "URL_KNICKS = \"https://www.basketball-reference.com/teams/OKC/2021.html\"\n",
    "request = requests.get(URL_KNICKS)\n",
    "kni = request.text\n",
    "soup = bs(kni, \"html.parser\")\n",
    "div = soup.find(\"div\",{\"id\":\"all_salaries2\"})\n",
    "\n",
    "comentarios = div.find_all(string=lambda text: isinstance(text, Comment))\n",
    "thunder = scrap(comentarios)\n",
    "thunder =  pd.DataFrame(list(thunder.items()), columns=['Jugador', 'Salario'])"
   ]
  },
  {
   "cell_type": "code",
   "execution_count": 34,
   "id": "fc2abcab",
   "metadata": {},
   "outputs": [],
   "source": [
    "URL_KNICKS = \"https://www.basketball-reference.com/teams/DAL/2021.html\"\n",
    "request = requests.get(URL_KNICKS)\n",
    "kni = request.text\n",
    "soup = bs(kni, \"html.parser\")\n",
    "div = soup.find(\"div\",{\"id\":\"all_salaries2\"})\n",
    "\n",
    "comentarios = div.find_all(string=lambda text: isinstance(text, Comment))\n",
    "dallas = scrap(comentarios)\n",
    "dallas =  pd.DataFrame(list(dallas.items()), columns=['Jugador', 'Salario'])"
   ]
  },
  {
   "cell_type": "code",
   "execution_count": 35,
   "id": "b32b736c",
   "metadata": {},
   "outputs": [],
   "source": [
    "URL_KNICKS = \"https://www.basketball-reference.com/teams/UTA/2021.html\"\n",
    "request = requests.get(URL_KNICKS)\n",
    "kni = request.text\n",
    "soup = bs(kni, \"html.parser\")\n",
    "div = soup.find(\"div\",{\"id\":\"all_salaries2\"})\n",
    "\n",
    "comentarios = div.find_all(string=lambda text: isinstance(text, Comment))\n",
    "uta = scrap(comentarios)\n",
    "uta =  pd.DataFrame(list(uta.items()), columns=['Jugador', 'Salario'])"
   ]
  },
  {
   "cell_type": "code",
   "execution_count": 36,
   "id": "68c2a0c6",
   "metadata": {},
   "outputs": [],
   "source": [
    "URL_KNICKS = \"https://www.basketball-reference.com/teams/POR/2021.html\"\n",
    "request = requests.get(URL_KNICKS)\n",
    "kni = request.text\n",
    "soup = bs(kni, \"html.parser\")\n",
    "div = soup.find(\"div\",{\"id\":\"all_salaries2\"})\n",
    "\n",
    "comentarios = div.find_all(string=lambda text: isinstance(text, Comment))\n",
    "portland = scrap(comentarios)\n",
    "portland =  pd.DataFrame(list(portland.items()), columns=['Jugador', 'Salario'])"
   ]
  },
  {
   "cell_type": "code",
   "execution_count": 37,
   "id": "dc5bf188",
   "metadata": {},
   "outputs": [],
   "source": [
    "URL_KNICKS = \"https://www.basketball-reference.com/teams/HOU/2021.html\"\n",
    "request = requests.get(URL_KNICKS)\n",
    "kni = request.text\n",
    "soup = bs(kni, \"html.parser\")\n",
    "div = soup.find(\"div\",{\"id\":\"all_salaries2\"})\n",
    "\n",
    "comentarios = div.find_all(string=lambda text: isinstance(text, Comment))\n",
    "rockets = scrap(comentarios)"
   ]
  },
  {
   "cell_type": "code",
   "execution_count": 38,
   "id": "f0d65249",
   "metadata": {},
   "outputs": [],
   "source": [
    "rockets['John Wall']=\"$40,866,760\"\n",
    "rockets= pd.DataFrame(list(rockets.items()), columns=['Jugador', 'Salario'])"
   ]
  },
  {
   "cell_type": "code",
   "execution_count": 39,
   "id": "423612df",
   "metadata": {},
   "outputs": [
    {
     "data": {
      "text/html": [
       "<div>\n",
       "<style scoped>\n",
       "    .dataframe tbody tr th:only-of-type {\n",
       "        vertical-align: middle;\n",
       "    }\n",
       "\n",
       "    .dataframe tbody tr th {\n",
       "        vertical-align: top;\n",
       "    }\n",
       "\n",
       "    .dataframe thead th {\n",
       "        text-align: right;\n",
       "    }\n",
       "</style>\n",
       "<table border=\"1\" class=\"dataframe\">\n",
       "  <thead>\n",
       "    <tr style=\"text-align: right;\">\n",
       "      <th></th>\n",
       "      <th>Jugador</th>\n",
       "      <th>Salario</th>\n",
       "    </tr>\n",
       "  </thead>\n",
       "  <tbody>\n",
       "    <tr>\n",
       "      <th>0</th>\n",
       "      <td>DeMar DeRozan</td>\n",
       "      <td>$27,739,975</td>\n",
       "    </tr>\n",
       "    <tr>\n",
       "      <th>1</th>\n",
       "      <td>LaMarcus Aldridge</td>\n",
       "      <td>$16,750,000</td>\n",
       "    </tr>\n",
       "    <tr>\n",
       "      <th>2</th>\n",
       "      <td>Rudy Gay</td>\n",
       "      <td>$14,500,000</td>\n",
       "    </tr>\n",
       "    <tr>\n",
       "      <th>3</th>\n",
       "      <td>Dejounte Murray</td>\n",
       "      <td>$14,286,000</td>\n",
       "    </tr>\n",
       "    <tr>\n",
       "      <th>4</th>\n",
       "      <td>Patty Mills</td>\n",
       "      <td>$13,535,714</td>\n",
       "    </tr>\n",
       "    <tr>\n",
       "      <th>5</th>\n",
       "      <td>Jakob Poeltl</td>\n",
       "      <td>$8,101,852</td>\n",
       "    </tr>\n",
       "    <tr>\n",
       "      <th>6</th>\n",
       "      <td>DeMarre Carroll</td>\n",
       "      <td>$6,119,676</td>\n",
       "    </tr>\n",
       "    <tr>\n",
       "      <th>7</th>\n",
       "      <td>Trey Lyles</td>\n",
       "      <td>$5,500,000</td>\n",
       "    </tr>\n",
       "    <tr>\n",
       "      <th>8</th>\n",
       "      <td>Devin Vassell</td>\n",
       "      <td>$4,033,440</td>\n",
       "    </tr>\n",
       "    <tr>\n",
       "      <th>9</th>\n",
       "      <td>Derrick White</td>\n",
       "      <td>$3,516,284</td>\n",
       "    </tr>\n",
       "    <tr>\n",
       "      <th>10</th>\n",
       "      <td>Lonnie Walker</td>\n",
       "      <td>$2,892,000</td>\n",
       "    </tr>\n",
       "    <tr>\n",
       "      <th>11</th>\n",
       "      <td>Luka Šamanić</td>\n",
       "      <td>$2,824,320</td>\n",
       "    </tr>\n",
       "    <tr>\n",
       "      <th>12</th>\n",
       "      <td>Keldon Johnson</td>\n",
       "      <td>$2,048,040</td>\n",
       "    </tr>\n",
       "    <tr>\n",
       "      <th>13</th>\n",
       "      <td>Marquese Chriss</td>\n",
       "      <td>$1,824,003</td>\n",
       "    </tr>\n",
       "    <tr>\n",
       "      <th>14</th>\n",
       "      <td>Drew Eubanks</td>\n",
       "      <td>$1,620,564</td>\n",
       "    </tr>\n",
       "    <tr>\n",
       "      <th>15</th>\n",
       "      <td>DaQuan Jeffries</td>\n",
       "      <td>$1,445,697</td>\n",
       "    </tr>\n",
       "    <tr>\n",
       "      <th>16</th>\n",
       "      <td>Gorgui Dieng</td>\n",
       "      <td>$1,000,000</td>\n",
       "    </tr>\n",
       "    <tr>\n",
       "      <th>17</th>\n",
       "      <td>Tre Jones</td>\n",
       "      <td>$898,310</td>\n",
       "    </tr>\n",
       "    <tr>\n",
       "      <th>18</th>\n",
       "      <td>Cameron Reynolds</td>\n",
       "      <td>$110,998</td>\n",
       "    </tr>\n",
       "    <tr>\n",
       "      <th>19</th>\n",
       "      <td>Quinndary Weatherspoon</td>\n",
       "      <td>$0</td>\n",
       "    </tr>\n",
       "    <tr>\n",
       "      <th>20</th>\n",
       "      <td>Keita Bates-Diop</td>\n",
       "      <td>$0</td>\n",
       "    </tr>\n",
       "  </tbody>\n",
       "</table>\n",
       "</div>"
      ],
      "text/plain": [
       "                   Jugador      Salario\n",
       "0            DeMar DeRozan  $27,739,975\n",
       "1        LaMarcus Aldridge  $16,750,000\n",
       "2                 Rudy Gay  $14,500,000\n",
       "3          Dejounte Murray  $14,286,000\n",
       "4              Patty Mills  $13,535,714\n",
       "5             Jakob Poeltl   $8,101,852\n",
       "6          DeMarre Carroll   $6,119,676\n",
       "7               Trey Lyles   $5,500,000\n",
       "8            Devin Vassell   $4,033,440\n",
       "9            Derrick White   $3,516,284\n",
       "10           Lonnie Walker   $2,892,000\n",
       "11            Luka Šamanić   $2,824,320\n",
       "12          Keldon Johnson   $2,048,040\n",
       "13         Marquese Chriss   $1,824,003\n",
       "14            Drew Eubanks   $1,620,564\n",
       "15         DaQuan Jeffries   $1,445,697\n",
       "16            Gorgui Dieng   $1,000,000\n",
       "17               Tre Jones     $898,310\n",
       "18        Cameron Reynolds     $110,998\n",
       "19  Quinndary Weatherspoon           $0\n",
       "20        Keita Bates-Diop           $0"
      ]
     },
     "execution_count": 39,
     "metadata": {},
     "output_type": "execute_result"
    }
   ],
   "source": [
    "URL_KNICKS = \"https://www.basketball-reference.com/teams/SAS/2021.html\"\n",
    "request = requests.get(URL_KNICKS)\n",
    "kni = request.text\n",
    "soup = bs(kni, \"html.parser\")\n",
    "div = soup.find(\"div\",{\"id\":\"all_salaries2\"})\n",
    "\n",
    "comentarios = div.find_all(string=lambda text: isinstance(text, Comment))\n",
    "spurs = scrap(comentarios)\n",
    "spurs = pd.DataFrame(list(spurs.items()), columns=['Jugador', 'Salario'])\n",
    "spurs"
   ]
  },
  {
   "cell_type": "code",
   "execution_count": 40,
   "id": "8d50eab4",
   "metadata": {},
   "outputs": [
    {
     "data": {
      "text/plain": [
       "'equipos = pd.concat(spurs, rockets, portland, uta, dallas, pelicans, thunder, wolves, lakers, golden, clippers, suns, kings, memphis, nuggets,\\n      pistons, hornets, magic, wizards, pacers, bulls, toronto, atlanta, miami, brooklyn, cavaliers, bucks, knicks, sixers,\\n      boston)'"
      ]
     },
     "execution_count": 40,
     "metadata": {},
     "output_type": "execute_result"
    }
   ],
   "source": [
    "equipos = [spurs, rockets, portland, uta, dallas, pelicans, thunder, wolves, lakers, golden, clippers, suns, kings, memphis, nuggets,\n",
    "      pistons, hornets, magic, wizards, pacers, bulls, toronto, atlanta, miami, brooklyn, cavaliers, bucks, knicks, sixers,\n",
    "      boston]\n",
    "\"\"\"equipos = pd.concat(spurs, rockets, portland, uta, dallas, pelicans, thunder, wolves, lakers, golden, clippers, suns, kings, memphis, nuggets,\n",
    "      pistons, hornets, magic, wizards, pacers, bulls, toronto, atlanta, miami, brooklyn, cavaliers, bucks, knicks, sixers,\n",
    "      boston)\"\"\""
   ]
  },
  {
   "cell_type": "code",
   "execution_count": 41,
   "id": "61198046",
   "metadata": {},
   "outputs": [],
   "source": [
    "equipos = pd.concat(equipos, ignore_index=True)"
   ]
  },
  {
   "cell_type": "code",
   "execution_count": 42,
   "id": "4969aefe",
   "metadata": {},
   "outputs": [
    {
     "data": {
      "text/html": [
       "<div>\n",
       "<style scoped>\n",
       "    .dataframe tbody tr th:only-of-type {\n",
       "        vertical-align: middle;\n",
       "    }\n",
       "\n",
       "    .dataframe tbody tr th {\n",
       "        vertical-align: top;\n",
       "    }\n",
       "\n",
       "    .dataframe thead th {\n",
       "        text-align: right;\n",
       "    }\n",
       "</style>\n",
       "<table border=\"1\" class=\"dataframe\">\n",
       "  <thead>\n",
       "    <tr style=\"text-align: right;\">\n",
       "      <th></th>\n",
       "      <th>Jugador</th>\n",
       "      <th>Salario</th>\n",
       "    </tr>\n",
       "  </thead>\n",
       "  <tbody>\n",
       "    <tr>\n",
       "      <th>0</th>\n",
       "      <td>DeMar DeRozan</td>\n",
       "      <td>$27,739,975</td>\n",
       "    </tr>\n",
       "    <tr>\n",
       "      <th>1</th>\n",
       "      <td>LaMarcus Aldridge</td>\n",
       "      <td>$16,750,000</td>\n",
       "    </tr>\n",
       "    <tr>\n",
       "      <th>2</th>\n",
       "      <td>Rudy Gay</td>\n",
       "      <td>$14,500,000</td>\n",
       "    </tr>\n",
       "    <tr>\n",
       "      <th>3</th>\n",
       "      <td>Dejounte Murray</td>\n",
       "      <td>$14,286,000</td>\n",
       "    </tr>\n",
       "    <tr>\n",
       "      <th>4</th>\n",
       "      <td>Patty Mills</td>\n",
       "      <td>$13,535,714</td>\n",
       "    </tr>\n",
       "    <tr>\n",
       "      <th>...</th>\n",
       "      <td>...</td>\n",
       "      <td>...</td>\n",
       "    </tr>\n",
       "    <tr>\n",
       "      <th>609</th>\n",
       "      <td>Guerschon Yabusele</td>\n",
       "      <td>$1,039,080</td>\n",
       "    </tr>\n",
       "    <tr>\n",
       "      <th>610</th>\n",
       "      <td>Jabari Parker</td>\n",
       "      <td>$430,729</td>\n",
       "    </tr>\n",
       "    <tr>\n",
       "      <th>611</th>\n",
       "      <td>Demetrius Jackson</td>\n",
       "      <td>$92,857</td>\n",
       "    </tr>\n",
       "    <tr>\n",
       "      <th>612</th>\n",
       "      <td>Tremont Waters</td>\n",
       "      <td>$0</td>\n",
       "    </tr>\n",
       "    <tr>\n",
       "      <th>613</th>\n",
       "      <td>Tacko Fall</td>\n",
       "      <td>$0</td>\n",
       "    </tr>\n",
       "  </tbody>\n",
       "</table>\n",
       "<p>614 rows × 2 columns</p>\n",
       "</div>"
      ],
      "text/plain": [
       "                Jugador      Salario\n",
       "0         DeMar DeRozan  $27,739,975\n",
       "1     LaMarcus Aldridge  $16,750,000\n",
       "2              Rudy Gay  $14,500,000\n",
       "3       Dejounte Murray  $14,286,000\n",
       "4           Patty Mills  $13,535,714\n",
       "..                  ...          ...\n",
       "609  Guerschon Yabusele   $1,039,080\n",
       "610       Jabari Parker     $430,729\n",
       "611   Demetrius Jackson      $92,857\n",
       "612      Tremont Waters           $0\n",
       "613          Tacko Fall           $0\n",
       "\n",
       "[614 rows x 2 columns]"
      ]
     },
     "execution_count": 42,
     "metadata": {},
     "output_type": "execute_result"
    }
   ],
   "source": [
    "equipos"
   ]
  },
  {
   "cell_type": "code",
   "execution_count": 43,
   "id": "e9efa3af",
   "metadata": {},
   "outputs": [],
   "source": [
    "import numpy as np\n",
    "equipos.replace('', np.nan, inplace=True)\n",
    "\n",
    "equipos.dropna(inplace = True)"
   ]
  },
  {
   "cell_type": "code",
   "execution_count": 44,
   "id": "369e0412",
   "metadata": {},
   "outputs": [],
   "source": [
    "equipos.Salario = equipos.Salario.str.replace(\"$\",\"\").str.replace(\",\",\"\")"
   ]
  },
  {
   "cell_type": "code",
   "execution_count": 45,
   "id": "0a7da370",
   "metadata": {},
   "outputs": [],
   "source": [
    "equipos.Salario = equipos.Salario.astype(int)"
   ]
  },
  {
   "cell_type": "code",
   "execution_count": 46,
   "id": "7d4d6799",
   "metadata": {},
   "outputs": [
    {
     "name": "stdout",
     "output_type": "stream",
     "text": [
      "<class 'pandas.core.frame.DataFrame'>\n",
      "RangeIndex: 614 entries, 0 to 613\n",
      "Data columns (total 2 columns):\n",
      " #   Column   Non-Null Count  Dtype \n",
      "---  ------   --------------  ----- \n",
      " 0   Jugador  614 non-null    object\n",
      " 1   Salario  614 non-null    int32 \n",
      "dtypes: int32(1), object(1)\n",
      "memory usage: 7.3+ KB\n"
     ]
    }
   ],
   "source": [
    "equipos.info()"
   ]
  },
  {
   "cell_type": "code",
   "execution_count": 47,
   "id": "d9ae7218",
   "metadata": {},
   "outputs": [],
   "source": [
    "equipos.to_csv(\"salario20_21.csv\", index = False)"
   ]
  }
 ],
 "metadata": {
  "kernelspec": {
   "display_name": "Python 3 (ipykernel)",
   "language": "python",
   "name": "python3"
  },
  "language_info": {
   "codemirror_mode": {
    "name": "ipython",
    "version": 3
   },
   "file_extension": ".py",
   "mimetype": "text/x-python",
   "name": "python",
   "nbconvert_exporter": "python",
   "pygments_lexer": "ipython3",
   "version": "3.11.5"
  }
 },
 "nbformat": 4,
 "nbformat_minor": 5
}
