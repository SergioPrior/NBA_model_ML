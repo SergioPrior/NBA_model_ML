{
 "cells": [
  {
   "cell_type": "code",
   "execution_count": 1,
   "id": "910625c8",
   "metadata": {},
   "outputs": [],
   "source": [
    "import pandas as pd\n",
    "from bs4 import BeautifulSoup as bs\n",
    "import requests\n",
    "from bs4 import Comment"
   ]
  },
  {
   "cell_type": "code",
   "execution_count": 2,
   "id": "602cd85f",
   "metadata": {},
   "outputs": [],
   "source": [
    "URL_boston = \"https://www.basketball-reference.com/teams/BOS/2020.html\"\n",
    "request = requests.get(URL_boston)\n",
    "html = request.text\n",
    "soup = bs(html, \"html.parser\")"
   ]
  },
  {
   "cell_type": "code",
   "execution_count": 3,
   "id": "fc2051e0",
   "metadata": {},
   "outputs": [],
   "source": [
    "div = soup.find(\"div\",{\"id\":\"all_salaries2\"})"
   ]
  },
  {
   "cell_type": "code",
   "execution_count": 4,
   "id": "9d5a52a5",
   "metadata": {},
   "outputs": [],
   "source": [
    "def scrap(comentarios):\n",
    "    dictio={}\n",
    "    \n",
    "    for comentario in comentarios:\n",
    "        \n",
    "        comentario_soup = bs(comentario, 'html.parser')\n",
    "        celdas = comentario_soup.find_all('td')\n",
    "    \n",
    "    for i in range(0, len(celdas), 2):\n",
    "        clave = celdas[i].text\n",
    "        valor = celdas[i + 1].text\n",
    "        dictio[clave]= valor\n",
    "    return dictio"
   ]
  },
  {
   "cell_type": "code",
   "execution_count": 5,
   "id": "09224a2d",
   "metadata": {},
   "outputs": [],
   "source": [
    "comentarios = div.find_all(string=lambda text: isinstance(text, Comment))\n",
    "boston = scrap(comentarios)\n",
    "boston = pd.DataFrame(list(boston.items()), columns=['Jugador', 'Salario'])"
   ]
  },
  {
   "cell_type": "code",
   "execution_count": 6,
   "id": "04292ce5",
   "metadata": {},
   "outputs": [
    {
     "data": {
      "text/html": [
       "<div>\n",
       "<style scoped>\n",
       "    .dataframe tbody tr th:only-of-type {\n",
       "        vertical-align: middle;\n",
       "    }\n",
       "\n",
       "    .dataframe tbody tr th {\n",
       "        vertical-align: top;\n",
       "    }\n",
       "\n",
       "    .dataframe thead th {\n",
       "        text-align: right;\n",
       "    }\n",
       "</style>\n",
       "<table border=\"1\" class=\"dataframe\">\n",
       "  <thead>\n",
       "    <tr style=\"text-align: right;\">\n",
       "      <th></th>\n",
       "      <th>Jugador</th>\n",
       "      <th>Salario</th>\n",
       "    </tr>\n",
       "  </thead>\n",
       "  <tbody>\n",
       "    <tr>\n",
       "      <th>0</th>\n",
       "      <td>Kemba Walker</td>\n",
       "      <td>$32,742,000</td>\n",
       "    </tr>\n",
       "    <tr>\n",
       "      <th>1</th>\n",
       "      <td>Gordon Hayward</td>\n",
       "      <td>$32,700,690</td>\n",
       "    </tr>\n",
       "    <tr>\n",
       "      <th>2</th>\n",
       "      <td>Marcus Smart</td>\n",
       "      <td>$11,768,879</td>\n",
       "    </tr>\n",
       "    <tr>\n",
       "      <th>3</th>\n",
       "      <td>Jayson Tatum</td>\n",
       "      <td>$7,830,000</td>\n",
       "    </tr>\n",
       "    <tr>\n",
       "      <th>4</th>\n",
       "      <td>Jaylen Brown</td>\n",
       "      <td>$6,534,829</td>\n",
       "    </tr>\n",
       "    <tr>\n",
       "      <th>5</th>\n",
       "      <td>Daniel Theis</td>\n",
       "      <td>$5,000,000</td>\n",
       "    </tr>\n",
       "    <tr>\n",
       "      <th>6</th>\n",
       "      <td>Enes Freedom</td>\n",
       "      <td>$4,767,000</td>\n",
       "    </tr>\n",
       "    <tr>\n",
       "      <th>7</th>\n",
       "      <td>Romeo Langford</td>\n",
       "      <td>$3,458,400</td>\n",
       "    </tr>\n",
       "    <tr>\n",
       "      <th>8</th>\n",
       "      <td>Vincent Poirier</td>\n",
       "      <td>$2,505,793</td>\n",
       "    </tr>\n",
       "    <tr>\n",
       "      <th>9</th>\n",
       "      <td>Grant Williams</td>\n",
       "      <td>$2,379,840</td>\n",
       "    </tr>\n",
       "    <tr>\n",
       "      <th>10</th>\n",
       "      <td>Robert Williams</td>\n",
       "      <td>$1,937,520</td>\n",
       "    </tr>\n",
       "    <tr>\n",
       "      <th>11</th>\n",
       "      <td>Semi Ojeleye</td>\n",
       "      <td>$1,618,520</td>\n",
       "    </tr>\n",
       "    <tr>\n",
       "      <th>12</th>\n",
       "      <td>Brad Wanamaker</td>\n",
       "      <td>$1,355,341</td>\n",
       "    </tr>\n",
       "    <tr>\n",
       "      <th>13</th>\n",
       "      <td>Carsen Edwards</td>\n",
       "      <td>$1,228,026</td>\n",
       "    </tr>\n",
       "    <tr>\n",
       "      <th>14</th>\n",
       "      <td>Guerschon Yabusele</td>\n",
       "      <td>$1,039,080</td>\n",
       "    </tr>\n",
       "    <tr>\n",
       "      <th>15</th>\n",
       "      <td>Javonte Green</td>\n",
       "      <td>$898,310</td>\n",
       "    </tr>\n",
       "    <tr>\n",
       "      <th>16</th>\n",
       "      <td>Max Strus</td>\n",
       "      <td>$415,414</td>\n",
       "    </tr>\n",
       "    <tr>\n",
       "      <th>17</th>\n",
       "      <td>Demetrius Jackson</td>\n",
       "      <td>$92,857</td>\n",
       "    </tr>\n",
       "    <tr>\n",
       "      <th>18</th>\n",
       "      <td>Tremont Waters</td>\n",
       "      <td>$0</td>\n",
       "    </tr>\n",
       "    <tr>\n",
       "      <th>19</th>\n",
       "      <td>Tacko Fall</td>\n",
       "      <td>$0</td>\n",
       "    </tr>\n",
       "  </tbody>\n",
       "</table>\n",
       "</div>"
      ],
      "text/plain": [
       "               Jugador      Salario\n",
       "0         Kemba Walker  $32,742,000\n",
       "1       Gordon Hayward  $32,700,690\n",
       "2         Marcus Smart  $11,768,879\n",
       "3         Jayson Tatum   $7,830,000\n",
       "4         Jaylen Brown   $6,534,829\n",
       "5         Daniel Theis   $5,000,000\n",
       "6         Enes Freedom   $4,767,000\n",
       "7       Romeo Langford   $3,458,400\n",
       "8      Vincent Poirier   $2,505,793\n",
       "9       Grant Williams   $2,379,840\n",
       "10     Robert Williams   $1,937,520\n",
       "11        Semi Ojeleye   $1,618,520\n",
       "12      Brad Wanamaker   $1,355,341\n",
       "13      Carsen Edwards   $1,228,026\n",
       "14  Guerschon Yabusele   $1,039,080\n",
       "15       Javonte Green     $898,310\n",
       "16           Max Strus     $415,414\n",
       "17   Demetrius Jackson      $92,857\n",
       "18      Tremont Waters           $0\n",
       "19          Tacko Fall           $0"
      ]
     },
     "execution_count": 6,
     "metadata": {},
     "output_type": "execute_result"
    }
   ],
   "source": [
    "boston"
   ]
  },
  {
   "cell_type": "code",
   "execution_count": 7,
   "id": "4178dc69",
   "metadata": {},
   "outputs": [],
   "source": [
    "URL_phi = \"https://www.basketball-reference.com/teams/PHI/2020.html\"\n",
    "request = requests.get(URL_phi)\n",
    "phi = request.text\n",
    "soup = bs(phi, \"html.parser\")\n",
    "div = soup.find(\"div\",{\"id\":\"all_salaries2\"})"
   ]
  },
  {
   "cell_type": "code",
   "execution_count": 8,
   "id": "ab02e494",
   "metadata": {},
   "outputs": [],
   "source": [
    "comentarios = div.find_all(string=lambda text: isinstance(text, Comment))\n",
    "sixers = scrap(comentarios)\n",
    "sixers = pd.DataFrame(list(sixers.items()), columns=['Jugador', 'Salario'])"
   ]
  },
  {
   "cell_type": "code",
   "execution_count": 9,
   "id": "d8d026c1",
   "metadata": {},
   "outputs": [],
   "source": [
    "URL_KNICKS = \"https://www.basketball-reference.com/teams/NYK/2020.html\"\n",
    "request = requests.get(URL_KNICKS)\n",
    "kni = request.text\n",
    "soup = bs(kni, \"html.parser\")\n",
    "div = soup.find(\"div\",{\"id\":\"all_salaries2\"})"
   ]
  },
  {
   "cell_type": "code",
   "execution_count": 10,
   "id": "62183657",
   "metadata": {},
   "outputs": [],
   "source": [
    "comentarios = div.find_all(string=lambda text: isinstance(text, Comment))\n",
    "knicks = scrap(comentarios)\n",
    "knicks = pd.DataFrame(list(knicks.items()), columns=['Jugador', 'Salario'])"
   ]
  },
  {
   "cell_type": "code",
   "execution_count": 11,
   "id": "abfaa699",
   "metadata": {},
   "outputs": [],
   "source": [
    "URL_KNICKS = \"https://www.basketball-reference.com/teams/MIL/2020.html\"\n",
    "request = requests.get(URL_KNICKS)\n",
    "kni = request.text\n",
    "soup = bs(kni, \"html.parser\")\n",
    "div = soup.find(\"div\",{\"id\":\"all_salaries2\"})"
   ]
  },
  {
   "cell_type": "code",
   "execution_count": 12,
   "id": "8f9abb9c",
   "metadata": {},
   "outputs": [],
   "source": [
    "comentarios = div.find_all(string=lambda text: isinstance(text, Comment))\n",
    "bucks = scrap(comentarios)\n",
    "bucks = pd.DataFrame(list(bucks.items()), columns=['Jugador', 'Salario'])"
   ]
  },
  {
   "cell_type": "code",
   "execution_count": 13,
   "id": "4f69252a",
   "metadata": {},
   "outputs": [],
   "source": [
    "URL_KNICKS = \"https://www.basketball-reference.com/teams/CLE/2020.html\"\n",
    "request = requests.get(URL_KNICKS)\n",
    "kni = request.text\n",
    "soup = bs(kni, \"html.parser\")\n",
    "div = soup.find(\"div\",{\"id\":\"all_salaries2\"})\n",
    "\n",
    "comentarios = div.find_all(string=lambda text: isinstance(text, Comment))\n",
    "cavaliers = scrap(comentarios)\n",
    "cavaliers = pd.DataFrame(list(cavaliers.items()), columns=['Jugador', 'Salario'])"
   ]
  },
  {
   "cell_type": "code",
   "execution_count": 14,
   "id": "7aa0e54e",
   "metadata": {},
   "outputs": [],
   "source": [
    "URL_KNICKS = \"https://www.basketball-reference.com/teams/BRK/2020.html\"\n",
    "request = requests.get(URL_KNICKS)\n",
    "kni = request.text\n",
    "soup = bs(kni, \"html.parser\")\n",
    "div = soup.find(\"div\",{\"id\":\"all_salaries2\"})\n",
    "\n",
    "comentarios = div.find_all(string=lambda text: isinstance(text, Comment))\n",
    "brooklyn = scrap(comentarios)\n",
    "brooklyn = pd.DataFrame(list(brooklyn.items()), columns=['Jugador', 'Salario'])"
   ]
  },
  {
   "cell_type": "code",
   "execution_count": 15,
   "id": "ffda17b1",
   "metadata": {},
   "outputs": [],
   "source": [
    "URL_KNICKS = \"https://www.basketball-reference.com/teams/MIA/2020.html\"\n",
    "request = requests.get(URL_KNICKS)\n",
    "kni = request.text\n",
    "soup = bs(kni, \"html.parser\")\n",
    "div = soup.find(\"div\",{\"id\":\"all_salaries2\"})\n",
    "\n",
    "comentarios = div.find_all(string=lambda text: isinstance(text, Comment))\n",
    "miami = scrap(comentarios)\n",
    "miami = pd.DataFrame(list(miami.items()), columns=['Jugador', 'Salario'])"
   ]
  },
  {
   "cell_type": "code",
   "execution_count": 16,
   "id": "9c696fc5",
   "metadata": {},
   "outputs": [],
   "source": [
    "URL_KNICKS = \"https://www.basketball-reference.com/teams/ATL/2020.html\"\n",
    "request = requests.get(URL_KNICKS)\n",
    "kni = request.text\n",
    "soup = bs(kni, \"html.parser\")\n",
    "div = soup.find(\"div\",{\"id\":\"all_salaries2\"})\n",
    "\n",
    "comentarios = div.find_all(string=lambda text: isinstance(text, Comment))\n",
    "atlanta = scrap(comentarios)\n",
    "atlanta = pd.DataFrame(list(atlanta.items()), columns=['Jugador', 'Salario'])"
   ]
  },
  {
   "cell_type": "code",
   "execution_count": 17,
   "id": "ab033780",
   "metadata": {},
   "outputs": [],
   "source": [
    "URL_KNICKS = \"https://www.basketball-reference.com/teams/TOR/2020.html\"\n",
    "request = requests.get(URL_KNICKS)\n",
    "kni = request.text\n",
    "soup = bs(kni, \"html.parser\")\n",
    "div = soup.find(\"div\",{\"id\":\"all_salaries2\"})\n",
    "\n",
    "comentarios = div.find_all(string=lambda text: isinstance(text, Comment))\n",
    "toronto = scrap(comentarios)\n",
    "toronto = pd.DataFrame(list(toronto.items()), columns=['Jugador', 'Salario'])"
   ]
  },
  {
   "cell_type": "code",
   "execution_count": 18,
   "id": "09d0340b",
   "metadata": {},
   "outputs": [],
   "source": [
    "URL_KNICKS = \"https://www.basketball-reference.com/teams/CHI/2020.html\"\n",
    "request = requests.get(URL_KNICKS)\n",
    "kni = request.text\n",
    "soup = bs(kni, \"html.parser\")\n",
    "div = soup.find(\"div\",{\"id\":\"all_salaries2\"})\n",
    "\n",
    "comentarios = div.find_all(string=lambda text: isinstance(text, Comment))\n",
    "bulls = scrap(comentarios)\n",
    "bulls = pd.DataFrame(list(bulls.items()), columns=['Jugador', 'Salario'])"
   ]
  },
  {
   "cell_type": "code",
   "execution_count": 19,
   "id": "46254bac",
   "metadata": {},
   "outputs": [],
   "source": [
    "URL_KNICKS = \"https://www.basketball-reference.com/teams/IND/2020.html\"\n",
    "request = requests.get(URL_KNICKS)\n",
    "kni = request.text\n",
    "soup = bs(kni, \"html.parser\")\n",
    "div = soup.find(\"div\",{\"id\":\"all_salaries2\"})\n",
    "\n",
    "comentarios = div.find_all(string=lambda text: isinstance(text, Comment))\n",
    "pacers = scrap(comentarios)\n",
    "pacers = pd.DataFrame(list(pacers.items()), columns=['Jugador', 'Salario'])"
   ]
  },
  {
   "cell_type": "code",
   "execution_count": 20,
   "id": "bd2f1566",
   "metadata": {},
   "outputs": [],
   "source": [
    "URL_KNICKS = \"https://www.basketball-reference.com/teams/WAS/2020.html\"\n",
    "request = requests.get(URL_KNICKS)\n",
    "kni = request.text\n",
    "soup = bs(kni, \"html.parser\")\n",
    "div = soup.find(\"div\",{\"id\":\"all_salaries2\"})\n",
    "\n",
    "comentarios = div.find_all(string=lambda text: isinstance(text, Comment))\n",
    "wizards = scrap(comentarios)\n",
    "wizards = pd.DataFrame(list(wizards.items()), columns=['Jugador', 'Salario'])"
   ]
  },
  {
   "cell_type": "code",
   "execution_count": 21,
   "id": "e32f01e8",
   "metadata": {},
   "outputs": [],
   "source": [
    "URL_KNICKS = \"https://www.basketball-reference.com/teams/ORL/2020.html\"\n",
    "request = requests.get(URL_KNICKS)\n",
    "kni = request.text\n",
    "soup = bs(kni, \"html.parser\")\n",
    "div = soup.find(\"div\",{\"id\":\"all_salaries2\"})\n",
    "\n",
    "comentarios = div.find_all(string=lambda text: isinstance(text, Comment))\n",
    "magic = scrap(comentarios)\n",
    "magic = pd.DataFrame(list(magic.items()), columns=['Jugador', 'Salario'])"
   ]
  },
  {
   "cell_type": "code",
   "execution_count": 22,
   "id": "ab11be4f",
   "metadata": {},
   "outputs": [],
   "source": [
    "URL_KNICKS = \"https://www.basketball-reference.com/teams/CHO/2020.html\"\n",
    "request = requests.get(URL_KNICKS)\n",
    "kni = request.text\n",
    "soup = bs(kni, \"html.parser\")\n",
    "div = soup.find(\"div\",{\"id\":\"all_salaries2\"})\n",
    "\n",
    "comentarios = div.find_all(string=lambda text: isinstance(text, Comment))\n",
    "hornets = scrap(comentarios)\n",
    "hornets = pd.DataFrame(list(hornets.items()), columns=['Jugador', 'Salario'])"
   ]
  },
  {
   "cell_type": "code",
   "execution_count": 23,
   "id": "405863e9",
   "metadata": {},
   "outputs": [],
   "source": [
    "URL_KNICKS = \"https://www.basketball-reference.com/teams/DET/2020.html\"\n",
    "request = requests.get(URL_KNICKS)\n",
    "kni = request.text\n",
    "soup = bs(kni, \"html.parser\")\n",
    "div = soup.find(\"div\",{\"id\":\"all_salaries2\"})\n",
    "\n",
    "comentarios = div.find_all(string=lambda text: isinstance(text, Comment))\n",
    "pistons = scrap(comentarios)\n",
    "pistons = pd.DataFrame(list(pistons.items()), columns=['Jugador', 'Salario'])"
   ]
  },
  {
   "cell_type": "code",
   "execution_count": 24,
   "id": "4a89c89e",
   "metadata": {},
   "outputs": [],
   "source": [
    "URL_KNICKS = \"https://www.basketball-reference.com/teams/DEN/2020.html\"\n",
    "request = requests.get(URL_KNICKS)\n",
    "kni = request.text\n",
    "soup = bs(kni, \"html.parser\")\n",
    "div = soup.find(\"div\",{\"id\":\"all_salaries2\"})\n",
    "\n",
    "comentarios = div.find_all(string=lambda text: isinstance(text, Comment))\n",
    "nuggets = scrap(comentarios)\n",
    "nuggets = pd.DataFrame(list(nuggets.items()), columns=['Jugador', 'Salario'])"
   ]
  },
  {
   "cell_type": "code",
   "execution_count": 25,
   "id": "ff8e1303",
   "metadata": {},
   "outputs": [],
   "source": [
    "URL_KNICKS = \"https://www.basketball-reference.com/teams/MEM/2020.html\"\n",
    "request = requests.get(URL_KNICKS)\n",
    "kni = request.text\n",
    "soup = bs(kni, \"html.parser\")\n",
    "div = soup.find(\"div\",{\"id\":\"all_salaries2\"})\n",
    "\n",
    "comentarios = div.find_all(string=lambda text: isinstance(text, Comment))\n",
    "memphis = scrap(comentarios)\n",
    "memphis = pd.DataFrame(list(memphis.items()), columns=['Jugador', 'Salario'])"
   ]
  },
  {
   "cell_type": "code",
   "execution_count": 26,
   "id": "a755ea89",
   "metadata": {},
   "outputs": [],
   "source": [
    "URL_KNICKS = \"https://www.basketball-reference.com/teams/SAC/2020.html\"\n",
    "request = requests.get(URL_KNICKS)\n",
    "kni = request.text\n",
    "soup = bs(kni, \"html.parser\")\n",
    "div = soup.find(\"div\",{\"id\":\"all_salaries2\"})\n",
    "\n",
    "comentarios = div.find_all(string=lambda text: isinstance(text, Comment))\n",
    "kings = scrap(comentarios)\n",
    "kings = pd.DataFrame(list(kings.items()), columns=['Jugador', 'Salario'])"
   ]
  },
  {
   "cell_type": "code",
   "execution_count": 27,
   "id": "dc6363df",
   "metadata": {},
   "outputs": [],
   "source": [
    "URL_KNICKS = \"https://www.basketball-reference.com/teams/PHO/2020.html\"\n",
    "request = requests.get(URL_KNICKS)\n",
    "kni = request.text\n",
    "soup = bs(kni, \"html.parser\")\n",
    "div = soup.find(\"div\",{\"id\":\"all_salaries2\"})\n",
    "\n",
    "comentarios = div.find_all(string=lambda text: isinstance(text, Comment))\n",
    "suns = scrap(comentarios)\n",
    "suns = pd.DataFrame(list(suns.items()), columns=['Jugador', 'Salario'])"
   ]
  },
  {
   "cell_type": "code",
   "execution_count": 28,
   "id": "533401e7",
   "metadata": {},
   "outputs": [],
   "source": [
    "URL_KNICKS = \"https://www.basketball-reference.com/teams/LAC/2020.html\"\n",
    "request = requests.get(URL_KNICKS)\n",
    "kni = request.text\n",
    "soup = bs(kni, \"html.parser\")\n",
    "div = soup.find(\"div\",{\"id\":\"all_salaries2\"})\n",
    "\n",
    "comentarios = div.find_all(string=lambda text: isinstance(text, Comment))\n",
    "clippers = scrap(comentarios)\n",
    "clippers =  pd.DataFrame(list(clippers.items()), columns=['Jugador', 'Salario'])"
   ]
  },
  {
   "cell_type": "code",
   "execution_count": 29,
   "id": "4627de49",
   "metadata": {},
   "outputs": [],
   "source": [
    "URL_KNICKS = \"https://www.basketball-reference.com/teams/GSW/2020.html\"\n",
    "request = requests.get(URL_KNICKS)\n",
    "kni = request.text\n",
    "soup = bs(kni, \"html.parser\")\n",
    "div = soup.find(\"div\",{\"id\":\"all_salaries2\"})\n",
    "\n",
    "comentarios = div.find_all(string=lambda text: isinstance(text, Comment))\n",
    "golden = scrap(comentarios)\n",
    "golden =  pd.DataFrame(list(golden.items()), columns=['Jugador', 'Salario'])"
   ]
  },
  {
   "cell_type": "code",
   "execution_count": 30,
   "id": "8fa49461",
   "metadata": {},
   "outputs": [],
   "source": [
    "URL_KNICKS = \"https://www.basketball-reference.com/teams/LAL/2020.html\"\n",
    "request = requests.get(URL_KNICKS)\n",
    "kni = request.text\n",
    "soup = bs(kni, \"html.parser\")\n",
    "div = soup.find(\"div\",{\"id\":\"all_salaries2\"})\n",
    "\n",
    "comentarios = div.find_all(string=lambda text: isinstance(text, Comment))\n",
    "lakers = scrap(comentarios)\n",
    "lakers =  pd.DataFrame(list(lakers.items()), columns=['Jugador', 'Salario'])"
   ]
  },
  {
   "cell_type": "code",
   "execution_count": 31,
   "id": "e799c656",
   "metadata": {},
   "outputs": [],
   "source": [
    "URL_KNICKS = \"https://www.basketball-reference.com/teams/MIN/2020.html\"\n",
    "request = requests.get(URL_KNICKS)\n",
    "kni = request.text\n",
    "soup = bs(kni, \"html.parser\")\n",
    "div = soup.find(\"div\",{\"id\":\"all_salaries2\"})\n",
    "\n",
    "comentarios = div.find_all(string=lambda text: isinstance(text, Comment))\n",
    "wolves = scrap(comentarios)\n",
    "wolves =  pd.DataFrame(list(wolves.items()), columns=['Jugador', 'Salario'])"
   ]
  },
  {
   "cell_type": "code",
   "execution_count": 32,
   "id": "3b9168ec",
   "metadata": {},
   "outputs": [],
   "source": [
    "URL_KNICKS = \"https://www.basketball-reference.com/teams/NOP/2020.html\"\n",
    "request = requests.get(URL_KNICKS)\n",
    "kni = request.text\n",
    "soup = bs(kni, \"html.parser\")\n",
    "div = soup.find(\"div\",{\"id\":\"all_salaries2\"})\n",
    "\n",
    "comentarios = div.find_all(string=lambda text: isinstance(text, Comment))\n",
    "pelicans = scrap(comentarios)\n",
    "pelicans =  pd.DataFrame(list(pelicans.items()), columns=['Jugador', 'Salario'])"
   ]
  },
  {
   "cell_type": "code",
   "execution_count": 33,
   "id": "d04ba382",
   "metadata": {},
   "outputs": [],
   "source": [
    "URL_KNICKS = \"https://www.basketball-reference.com/teams/OKC/2020.html\"\n",
    "request = requests.get(URL_KNICKS)\n",
    "kni = request.text\n",
    "soup = bs(kni, \"html.parser\")\n",
    "div = soup.find(\"div\",{\"id\":\"all_salaries2\"})\n",
    "\n",
    "comentarios = div.find_all(string=lambda text: isinstance(text, Comment))\n",
    "thunder = scrap(comentarios)\n",
    "thunder =  pd.DataFrame(list(thunder.items()), columns=['Jugador', 'Salario'])"
   ]
  },
  {
   "cell_type": "code",
   "execution_count": 34,
   "id": "fc2abcab",
   "metadata": {},
   "outputs": [],
   "source": [
    "URL_KNICKS = \"https://www.basketball-reference.com/teams/DAL/2020.html\"\n",
    "request = requests.get(URL_KNICKS)\n",
    "kni = request.text\n",
    "soup = bs(kni, \"html.parser\")\n",
    "div = soup.find(\"div\",{\"id\":\"all_salaries2\"})\n",
    "\n",
    "comentarios = div.find_all(string=lambda text: isinstance(text, Comment))\n",
    "dallas = scrap(comentarios)\n",
    "dallas =  pd.DataFrame(list(dallas.items()), columns=['Jugador', 'Salario'])"
   ]
  },
  {
   "cell_type": "code",
   "execution_count": 35,
   "id": "b32b736c",
   "metadata": {},
   "outputs": [],
   "source": [
    "URL_KNICKS = \"https://www.basketball-reference.com/teams/UTA/2020.html\"\n",
    "request = requests.get(URL_KNICKS)\n",
    "kni = request.text\n",
    "soup = bs(kni, \"html.parser\")\n",
    "div = soup.find(\"div\",{\"id\":\"all_salaries2\"})\n",
    "\n",
    "comentarios = div.find_all(string=lambda text: isinstance(text, Comment))\n",
    "uta = scrap(comentarios)\n",
    "uta =  pd.DataFrame(list(uta.items()), columns=['Jugador', 'Salario'])"
   ]
  },
  {
   "cell_type": "code",
   "execution_count": 36,
   "id": "68c2a0c6",
   "metadata": {},
   "outputs": [],
   "source": [
    "URL_KNICKS = \"https://www.basketball-reference.com/teams/POR/2020.html\"\n",
    "request = requests.get(URL_KNICKS)\n",
    "kni = request.text\n",
    "soup = bs(kni, \"html.parser\")\n",
    "div = soup.find(\"div\",{\"id\":\"all_salaries2\"})\n",
    "\n",
    "comentarios = div.find_all(string=lambda text: isinstance(text, Comment))\n",
    "portland = scrap(comentarios)\n",
    "portland =  pd.DataFrame(list(portland.items()), columns=['Jugador', 'Salario'])"
   ]
  },
  {
   "cell_type": "code",
   "execution_count": 37,
   "id": "dc5bf188",
   "metadata": {},
   "outputs": [],
   "source": [
    "URL_KNICKS = \"https://www.basketball-reference.com/teams/HOU/2020.html\"\n",
    "request = requests.get(URL_KNICKS)\n",
    "kni = request.text\n",
    "soup = bs(kni, \"html.parser\")\n",
    "div = soup.find(\"div\",{\"id\":\"all_salaries2\"})\n",
    "\n",
    "comentarios = div.find_all(string=lambda text: isinstance(text, Comment))\n",
    "rockets = scrap(comentarios)"
   ]
  },
  {
   "cell_type": "code",
   "execution_count": 38,
   "id": "f0d65249",
   "metadata": {},
   "outputs": [],
   "source": [
    "rockets['John Wall']=\"$40,866,760\"\n",
    "rockets= pd.DataFrame(list(rockets.items()), columns=['Jugador', 'Salario'])"
   ]
  },
  {
   "cell_type": "code",
   "execution_count": 39,
   "id": "423612df",
   "metadata": {},
   "outputs": [
    {
     "data": {
      "text/html": [
       "<div>\n",
       "<style scoped>\n",
       "    .dataframe tbody tr th:only-of-type {\n",
       "        vertical-align: middle;\n",
       "    }\n",
       "\n",
       "    .dataframe tbody tr th {\n",
       "        vertical-align: top;\n",
       "    }\n",
       "\n",
       "    .dataframe thead th {\n",
       "        text-align: right;\n",
       "    }\n",
       "</style>\n",
       "<table border=\"1\" class=\"dataframe\">\n",
       "  <thead>\n",
       "    <tr style=\"text-align: right;\">\n",
       "      <th></th>\n",
       "      <th>Jugador</th>\n",
       "      <th>Salario</th>\n",
       "    </tr>\n",
       "  </thead>\n",
       "  <tbody>\n",
       "    <tr>\n",
       "      <th>0</th>\n",
       "      <td>DeMar DeRozan</td>\n",
       "      <td>$27,739,975</td>\n",
       "    </tr>\n",
       "    <tr>\n",
       "      <th>1</th>\n",
       "      <td>LaMarcus Aldridge</td>\n",
       "      <td>$26,000,000</td>\n",
       "    </tr>\n",
       "    <tr>\n",
       "      <th>2</th>\n",
       "      <td>Rudy Gay</td>\n",
       "      <td>$14,000,000</td>\n",
       "    </tr>\n",
       "    <tr>\n",
       "      <th>3</th>\n",
       "      <td>Patty Mills</td>\n",
       "      <td>$12,428,571</td>\n",
       "    </tr>\n",
       "    <tr>\n",
       "      <th>4</th>\n",
       "      <td>DeMarre Carroll</td>\n",
       "      <td>$6,842,307</td>\n",
       "    </tr>\n",
       "    <tr>\n",
       "      <th>5</th>\n",
       "      <td>Marco Belinelli</td>\n",
       "      <td>$5,846,154</td>\n",
       "    </tr>\n",
       "    <tr>\n",
       "      <th>6</th>\n",
       "      <td>Trey Lyles</td>\n",
       "      <td>$5,500,000</td>\n",
       "    </tr>\n",
       "    <tr>\n",
       "      <th>7</th>\n",
       "      <td>Pau Gasol</td>\n",
       "      <td>$5,074,856</td>\n",
       "    </tr>\n",
       "    <tr>\n",
       "      <th>8</th>\n",
       "      <td>Jakob Poeltl</td>\n",
       "      <td>$3,754,886</td>\n",
       "    </tr>\n",
       "    <tr>\n",
       "      <th>9</th>\n",
       "      <td>Bryn Forbes</td>\n",
       "      <td>$2,875,000</td>\n",
       "    </tr>\n",
       "    <tr>\n",
       "      <th>10</th>\n",
       "      <td>Lonnie Walker</td>\n",
       "      <td>$2,760,480</td>\n",
       "    </tr>\n",
       "    <tr>\n",
       "      <th>11</th>\n",
       "      <td>Luka Šamanić</td>\n",
       "      <td>$2,689,920</td>\n",
       "    </tr>\n",
       "    <tr>\n",
       "      <th>12</th>\n",
       "      <td>Dejounte Murray</td>\n",
       "      <td>$2,321,735</td>\n",
       "    </tr>\n",
       "    <tr>\n",
       "      <th>13</th>\n",
       "      <td>Keldon Johnson</td>\n",
       "      <td>$1,950,600</td>\n",
       "    </tr>\n",
       "    <tr>\n",
       "      <th>14</th>\n",
       "      <td>Derrick White</td>\n",
       "      <td>$1,948,080</td>\n",
       "    </tr>\n",
       "    <tr>\n",
       "      <th>15</th>\n",
       "      <td>Chimezie Metu</td>\n",
       "      <td>$1,416,852</td>\n",
       "    </tr>\n",
       "    <tr>\n",
       "      <th>16</th>\n",
       "      <td>Tyler Zeller</td>\n",
       "      <td>$245,686</td>\n",
       "    </tr>\n",
       "    <tr>\n",
       "      <th>17</th>\n",
       "      <td>Drew Eubanks</td>\n",
       "      <td>$0</td>\n",
       "    </tr>\n",
       "    <tr>\n",
       "      <th>18</th>\n",
       "      <td>Quinndary Weatherspoon</td>\n",
       "      <td>$0</td>\n",
       "    </tr>\n",
       "  </tbody>\n",
       "</table>\n",
       "</div>"
      ],
      "text/plain": [
       "                   Jugador      Salario\n",
       "0            DeMar DeRozan  $27,739,975\n",
       "1        LaMarcus Aldridge  $26,000,000\n",
       "2                 Rudy Gay  $14,000,000\n",
       "3              Patty Mills  $12,428,571\n",
       "4          DeMarre Carroll   $6,842,307\n",
       "5          Marco Belinelli   $5,846,154\n",
       "6               Trey Lyles   $5,500,000\n",
       "7                Pau Gasol   $5,074,856\n",
       "8             Jakob Poeltl   $3,754,886\n",
       "9              Bryn Forbes   $2,875,000\n",
       "10           Lonnie Walker   $2,760,480\n",
       "11            Luka Šamanić   $2,689,920\n",
       "12         Dejounte Murray   $2,321,735\n",
       "13          Keldon Johnson   $1,950,600\n",
       "14           Derrick White   $1,948,080\n",
       "15           Chimezie Metu   $1,416,852\n",
       "16            Tyler Zeller     $245,686\n",
       "17            Drew Eubanks           $0\n",
       "18  Quinndary Weatherspoon           $0"
      ]
     },
     "execution_count": 39,
     "metadata": {},
     "output_type": "execute_result"
    }
   ],
   "source": [
    "URL_KNICKS = \"https://www.basketball-reference.com/teams/SAS/2020.html\"\n",
    "request = requests.get(URL_KNICKS)\n",
    "kni = request.text\n",
    "soup = bs(kni, \"html.parser\")\n",
    "div = soup.find(\"div\",{\"id\":\"all_salaries2\"})\n",
    "\n",
    "comentarios = div.find_all(string=lambda text: isinstance(text, Comment))\n",
    "spurs = scrap(comentarios)\n",
    "spurs = pd.DataFrame(list(spurs.items()), columns=['Jugador', 'Salario'])\n",
    "spurs"
   ]
  },
  {
   "cell_type": "code",
   "execution_count": 40,
   "id": "8d50eab4",
   "metadata": {},
   "outputs": [
    {
     "data": {
      "text/plain": [
       "'equipos = pd.concat(spurs, rockets, portland, uta, dallas, pelicans, thunder, wolves, lakers, golden, clippers, suns, kings, memphis, nuggets,\\n      pistons, hornets, magic, wizards, pacers, bulls, toronto, atlanta, miami, brooklyn, cavaliers, bucks, knicks, sixers,\\n      boston)'"
      ]
     },
     "execution_count": 40,
     "metadata": {},
     "output_type": "execute_result"
    }
   ],
   "source": [
    "equipos = [spurs, rockets, portland, uta, dallas, pelicans, thunder, wolves, lakers, golden, clippers, suns, kings, memphis, nuggets,\n",
    "      pistons, hornets, magic, wizards, pacers, bulls, toronto, atlanta, miami, brooklyn, cavaliers, bucks, knicks, sixers,\n",
    "      boston]\n",
    "\"\"\"equipos = pd.concat(spurs, rockets, portland, uta, dallas, pelicans, thunder, wolves, lakers, golden, clippers, suns, kings, memphis, nuggets,\n",
    "      pistons, hornets, magic, wizards, pacers, bulls, toronto, atlanta, miami, brooklyn, cavaliers, bucks, knicks, sixers,\n",
    "      boston)\"\"\""
   ]
  },
  {
   "cell_type": "code",
   "execution_count": 41,
   "id": "61198046",
   "metadata": {},
   "outputs": [],
   "source": [
    "equipos = pd.concat(equipos, ignore_index=True)"
   ]
  },
  {
   "cell_type": "code",
   "execution_count": 42,
   "id": "4969aefe",
   "metadata": {},
   "outputs": [
    {
     "data": {
      "text/html": [
       "<div>\n",
       "<style scoped>\n",
       "    .dataframe tbody tr th:only-of-type {\n",
       "        vertical-align: middle;\n",
       "    }\n",
       "\n",
       "    .dataframe tbody tr th {\n",
       "        vertical-align: top;\n",
       "    }\n",
       "\n",
       "    .dataframe thead th {\n",
       "        text-align: right;\n",
       "    }\n",
       "</style>\n",
       "<table border=\"1\" class=\"dataframe\">\n",
       "  <thead>\n",
       "    <tr style=\"text-align: right;\">\n",
       "      <th></th>\n",
       "      <th>Jugador</th>\n",
       "      <th>Salario</th>\n",
       "    </tr>\n",
       "  </thead>\n",
       "  <tbody>\n",
       "    <tr>\n",
       "      <th>0</th>\n",
       "      <td>DeMar DeRozan</td>\n",
       "      <td>$27,739,975</td>\n",
       "    </tr>\n",
       "    <tr>\n",
       "      <th>1</th>\n",
       "      <td>LaMarcus Aldridge</td>\n",
       "      <td>$26,000,000</td>\n",
       "    </tr>\n",
       "    <tr>\n",
       "      <th>2</th>\n",
       "      <td>Rudy Gay</td>\n",
       "      <td>$14,000,000</td>\n",
       "    </tr>\n",
       "    <tr>\n",
       "      <th>3</th>\n",
       "      <td>Patty Mills</td>\n",
       "      <td>$12,428,571</td>\n",
       "    </tr>\n",
       "    <tr>\n",
       "      <th>4</th>\n",
       "      <td>DeMarre Carroll</td>\n",
       "      <td>$6,842,307</td>\n",
       "    </tr>\n",
       "    <tr>\n",
       "      <th>...</th>\n",
       "      <td>...</td>\n",
       "      <td>...</td>\n",
       "    </tr>\n",
       "    <tr>\n",
       "      <th>611</th>\n",
       "      <td>Javonte Green</td>\n",
       "      <td>$898,310</td>\n",
       "    </tr>\n",
       "    <tr>\n",
       "      <th>612</th>\n",
       "      <td>Max Strus</td>\n",
       "      <td>$415,414</td>\n",
       "    </tr>\n",
       "    <tr>\n",
       "      <th>613</th>\n",
       "      <td>Demetrius Jackson</td>\n",
       "      <td>$92,857</td>\n",
       "    </tr>\n",
       "    <tr>\n",
       "      <th>614</th>\n",
       "      <td>Tremont Waters</td>\n",
       "      <td>$0</td>\n",
       "    </tr>\n",
       "    <tr>\n",
       "      <th>615</th>\n",
       "      <td>Tacko Fall</td>\n",
       "      <td>$0</td>\n",
       "    </tr>\n",
       "  </tbody>\n",
       "</table>\n",
       "<p>616 rows × 2 columns</p>\n",
       "</div>"
      ],
      "text/plain": [
       "               Jugador      Salario\n",
       "0        DeMar DeRozan  $27,739,975\n",
       "1    LaMarcus Aldridge  $26,000,000\n",
       "2             Rudy Gay  $14,000,000\n",
       "3          Patty Mills  $12,428,571\n",
       "4      DeMarre Carroll   $6,842,307\n",
       "..                 ...          ...\n",
       "611      Javonte Green     $898,310\n",
       "612          Max Strus     $415,414\n",
       "613  Demetrius Jackson      $92,857\n",
       "614     Tremont Waters           $0\n",
       "615         Tacko Fall           $0\n",
       "\n",
       "[616 rows x 2 columns]"
      ]
     },
     "execution_count": 42,
     "metadata": {},
     "output_type": "execute_result"
    }
   ],
   "source": [
    "equipos"
   ]
  },
  {
   "cell_type": "code",
   "execution_count": 43,
   "id": "e9efa3af",
   "metadata": {},
   "outputs": [],
   "source": [
    "import numpy as np\n",
    "equipos.replace('', np.nan, inplace=True)\n",
    "\n",
    "equipos.dropna(inplace = True)"
   ]
  },
  {
   "cell_type": "code",
   "execution_count": 44,
   "id": "369e0412",
   "metadata": {},
   "outputs": [],
   "source": [
    "equipos.Salario = equipos.Salario.str.replace(\"$\",\"\").str.replace(\",\",\"\")"
   ]
  },
  {
   "cell_type": "code",
   "execution_count": 45,
   "id": "0a7da370",
   "metadata": {},
   "outputs": [],
   "source": [
    "equipos.Salario = equipos.Salario.astype(int)"
   ]
  },
  {
   "cell_type": "code",
   "execution_count": 46,
   "id": "7d4d6799",
   "metadata": {},
   "outputs": [
    {
     "name": "stdout",
     "output_type": "stream",
     "text": [
      "<class 'pandas.core.frame.DataFrame'>\n",
      "Index: 615 entries, 0 to 615\n",
      "Data columns (total 2 columns):\n",
      " #   Column   Non-Null Count  Dtype \n",
      "---  ------   --------------  ----- \n",
      " 0   Jugador  615 non-null    object\n",
      " 1   Salario  615 non-null    int32 \n",
      "dtypes: int32(1), object(1)\n",
      "memory usage: 12.0+ KB\n"
     ]
    }
   ],
   "source": [
    "equipos.info()"
   ]
  },
  {
   "cell_type": "code",
   "execution_count": 47,
   "id": "d9ae7218",
   "metadata": {},
   "outputs": [],
   "source": [
    "equipos.to_csv(\"salario19_20.csv\", index = False)"
   ]
  }
 ],
 "metadata": {
  "kernelspec": {
   "display_name": "Python 3 (ipykernel)",
   "language": "python",
   "name": "python3"
  },
  "language_info": {
   "codemirror_mode": {
    "name": "ipython",
    "version": 3
   },
   "file_extension": ".py",
   "mimetype": "text/x-python",
   "name": "python",
   "nbconvert_exporter": "python",
   "pygments_lexer": "ipython3",
   "version": "3.11.5"
  }
 },
 "nbformat": 4,
 "nbformat_minor": 5
}
