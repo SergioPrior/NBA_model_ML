{
 "cells": [
  {
   "cell_type": "code",
   "execution_count": 2,
   "id": "adfea61f",
   "metadata": {},
   "outputs": [],
   "source": [
    "import pandas as pd\n",
    "\n",
    "pd.set_option('display.max_rows', None)\n",
    "\n",
    "pd.set_option('display.max_columns', None)\n"
   ]
  },
  {
   "cell_type": "code",
   "execution_count": 3,
   "id": "9e7b555c",
   "metadata": {},
   "outputs": [],
   "source": [
    "salario = pd.read_csv(\"../NBA_csv/salario22_23_clean.csv\")\n",
    "\n",
    "stats = pd.read_csv(\"../NBA_csv/stats22_23_clean.csv\")"
   ]
  },
  {
   "cell_type": "code",
   "execution_count": 4,
   "id": "e6f38c12",
   "metadata": {},
   "outputs": [],
   "source": [
    "salario.rename(columns={\"Jugador\":\"Player\"}, inplace=True)\n",
    "\n",
    "salario['Player'] = salario['Player'].str.capitalize()"
   ]
  },
  {
   "cell_type": "code",
   "execution_count": 5,
   "id": "c351ab02",
   "metadata": {},
   "outputs": [],
   "source": [
    "columna_temporal = stats.pop('Pos')\n",
    "\n",
    "stats.insert(1, 'Pos', columna_temporal)"
   ]
  },
  {
   "cell_type": "code",
   "execution_count": 6,
   "id": "43402786",
   "metadata": {},
   "outputs": [],
   "source": [
    "df_modelo22_23 = pd.merge(stats, salario, how='inner', on='Player')"
   ]
  },
  {
   "cell_type": "code",
   "execution_count": 8,
   "id": "8989a5cb",
   "metadata": {},
   "outputs": [],
   "source": [
    "df_modelo22_23.to_csv(\"modelo22_23.csv\", index = False)"
   ]
  }
 ],
 "metadata": {
  "kernelspec": {
   "display_name": "Python 3 (ipykernel)",
   "language": "python",
   "name": "python3"
  },
  "language_info": {
   "codemirror_mode": {
    "name": "ipython",
    "version": 3
   },
   "file_extension": ".py",
   "mimetype": "text/x-python",
   "name": "python",
   "nbconvert_exporter": "python",
   "pygments_lexer": "ipython3",
   "version": "3.11.5"
  }
 },
 "nbformat": 4,
 "nbformat_minor": 5
}
